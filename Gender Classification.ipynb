{
 "cells": [
  {
   "cell_type": "code",
   "execution_count": 1,
   "metadata": {
    "ExecuteTime": {
     "end_time": "2019-04-24T00:37:44.034708Z",
     "start_time": "2019-04-24T00:37:44.029628Z"
    }
   },
   "outputs": [
    {
     "name": "stderr",
     "output_type": "stream",
     "text": [
      "/home/jatin/anaconda3/lib/python3.6/site-packages/h5py/__init__.py:36: FutureWarning: Conversion of the second argument of issubdtype from `float` to `np.floating` is deprecated. In future, it will be treated as `np.float64 == np.dtype(float).type`.\n",
      "  from ._conv import register_converters as _register_converters\n",
      "Using TensorFlow backend.\n"
     ]
    }
   ],
   "source": [
    "import numpy as np\n",
    "import cv2\n",
    "import matplotlib.pyplot as plt\n",
    "import os\n",
    "from sklearn.preprocessing import OneHotEncoder\n",
    "\n",
    "from keras.models import Sequential\n",
    "from keras.layers import Conv2D, MaxPooling2D, BatchNormalization, Dropout, Flatten, Dense\n",
    "\n",
    "import pandas as pd\n",
    "import traceback\n",
    "from sklearn.model_selection import cross_val_score, GridSearchCV\n",
    "from sklearn.model_selection import train_test_split\n",
    "from sklearn.preprocessing import OneHotEncoder\n",
    "os.environ['KMP_DUPLICATE_LIB_OK'] = 'True'\n"
   ]
  },
  {
   "cell_type": "code",
   "execution_count": 5,
   "metadata": {
    "ExecuteTime": {
     "end_time": "2019-04-24T00:31:07.628650Z",
     "start_time": "2019-04-24T00:31:07.622529Z"
    }
   },
   "outputs": [],
   "source": [
    "def read_UTK(startpath):\n",
    "    X = []\n",
    "    y = []\n",
    "    try:\n",
    "        for root, dirs, files in os.walk(startpath):\n",
    "            for file in files:\n",
    "                if file[-3:] == 'jpg':\n",
    "                    names = file.split('_')\n",
    "                    if int(names[0]) > 17 and int(names[0]) < 31:\n",
    "                        y.append(names[1])\n",
    "                        img = cv2.imread(root + file,cv2.IMREAD_GRAYSCALE)\n",
    "                        X.append(img)\n",
    "                \n",
    "    except Exception as err:\n",
    "        traceback.print_tb(err.__traceback__)\n",
    "    return np.array(X,dtype='float'), np.array(y,dtype='uint8')"
   ]
  },
  {
   "cell_type": "code",
   "execution_count": 6,
   "metadata": {
    "ExecuteTime": {
     "end_time": "2019-04-24T00:31:42.388679Z",
     "start_time": "2019-04-24T00:31:07.631279Z"
    }
   },
   "outputs": [],
   "source": [
    "UTK_path = '../Data/UTKFace/'\n",
    "X,y = read_UTK(UTK_path)"
   ]
  },
  {
   "cell_type": "code",
   "execution_count": 7,
   "metadata": {},
   "outputs": [
    {
     "name": "stdout",
     "output_type": "stream",
     "text": [
      "(8428, 200, 200)\n",
      "(8428,)\n"
     ]
    }
   ],
   "source": [
    "print(X.shape)\n",
    "print(y.shape)"
   ]
  },
  {
   "cell_type": "code",
   "execution_count": 8,
   "metadata": {
    "ExecuteTime": {
     "end_time": "2019-04-24T00:31:42.394144Z",
     "start_time": "2019-04-24T00:31:42.390522Z"
    }
   },
   "outputs": [],
   "source": [
    "y_translation = {\n",
    "    0: 'Male',\n",
    "    1: 'Female',\n",
    "}"
   ]
  },
  {
   "cell_type": "code",
   "execution_count": 9,
   "metadata": {
    "ExecuteTime": {
     "end_time": "2019-04-24T00:31:42.409282Z",
     "start_time": "2019-04-24T00:31:42.399710Z"
    }
   },
   "outputs": [],
   "source": [
    "X = np.expand_dims(X, -1)\n",
    "oht = OneHotEncoder(categories='auto', sparse=False)\n",
    "y = oht.fit_transform(y.reshape(-1,1))"
   ]
  },
  {
   "cell_type": "code",
   "execution_count": 10,
   "metadata": {
    "ExecuteTime": {
     "end_time": "2019-04-24T00:32:19.859370Z",
     "start_time": "2019-04-24T00:31:42.412925Z"
    }
   },
   "outputs": [],
   "source": [
    "X_train, X_test, y_train, y_test = train_test_split(X,y)"
   ]
  },
  {
   "cell_type": "code",
   "execution_count": 11,
   "metadata": {
    "ExecuteTime": {
     "end_time": "2019-04-24T00:32:19.970279Z",
     "start_time": "2019-04-24T00:32:19.906607Z"
    }
   },
   "outputs": [],
   "source": [
    "# IMG_SIZE = 200\n",
    "# model = Sequential()\n",
    "# model.add(Conv2D(64, kernel_size = (3, 3), activation='relu', input_shape=(IMG_SIZE, IMG_SIZE, 1)))\n",
    "# model.add(Conv2D(64, kernel_size=(3,3), activation='relu'))\n",
    "# model.add(MaxPooling2D(pool_size=(2,2)))\n",
    "# model.add(BatchNormalization())\n",
    "# # model.add(MaxPooling2D(pool_size=(2,2)))\n",
    "# # model.add(BatchNormalization())\n",
    "# model.add(Conv2D(64, kernel_size=(3,3), activation='relu'))\n",
    "# model.add(Conv2D(64, kernel_size=(3,3), activation='relu'))\n",
    "# model.add(MaxPooling2D(pool_size=(2,2)))\n",
    "# model.add(BatchNormalization())\n",
    "# # model.add(Conv2D(96, kernel_size=(3,3), activation='relu'))\n",
    "# # model.add(MaxPooling2D(pool_size=(2,2)))\n",
    "# # model.add(BatchNormalization())\n",
    "# # model.add(Conv2D(32, kernel_size=(3,3), activation='relu'))\n",
    "# # model.add(MaxPooling2D(pool_size=(2,2)))\n",
    "# # model.add(BatchNormalization())\n",
    "# model.add(Dropout(rate=0.8))\n",
    "# model.add(Flatten())\n",
    "# model.add(Dense(128, activation='relu'))\n",
    "# model.add(Dense(2, activation = 'softmax'))"
   ]
  },
  {
   "cell_type": "code",
   "execution_count": 12,
   "metadata": {
    "ExecuteTime": {
     "end_time": "2019-04-24T00:32:19.987307Z",
     "start_time": "2019-04-24T00:32:19.976073Z"
    }
   },
   "outputs": [],
   "source": [
    "classes = 2\n",
    "inputShape = (200,200,1)"
   ]
  },
  {
   "cell_type": "code",
   "execution_count": 13,
   "metadata": {
    "ExecuteTime": {
     "end_time": "2019-04-24T00:33:26.230395Z",
     "start_time": "2019-04-24T00:33:25.213224Z"
    }
   },
   "outputs": [],
   "source": [
    "model = Sequential()\n",
    "model.add(Conv2D(32, (3,3), input_shape=inputShape, activation = 'relu'))\n",
    "model.add(BatchNormalization())\n",
    "model.add(MaxPooling2D(pool_size=(3,3)))\n",
    "model.add(Dropout(0.25))\n",
    "\n",
    "model.add(Conv2D(64, (3,3), activation = 'relu'))\n",
    "model.add(BatchNormalization())\n",
    "model.add(Conv2D(64, (3,3), activation = 'relu'))\n",
    "model.add(BatchNormalization())\n",
    "model.add(MaxPooling2D(pool_size=(2,2)))\n",
    "model.add(Dropout(0.25))\n",
    "\n",
    "model.add(Conv2D(128, (3,3), activation = 'relu'))\n",
    "model.add(BatchNormalization())\n",
    "model.add(Conv2D(128, (3,3), activation = 'relu'))\n",
    "model.add(BatchNormalization())\n",
    "model.add(MaxPooling2D(pool_size=(2,2)))\n",
    "model.add(Dropout(0.25))\n",
    "\n",
    "model.add(Flatten())\n",
    "model.add(Dense(128, activation='relu'))\n",
    "model.add(BatchNormalization())\n",
    "model.add(Dropout(0.5))\n",
    "\n",
    "model.add(Dense(classes, activation = 'relu'))"
   ]
  },
  {
   "cell_type": "code",
   "execution_count": 14,
   "metadata": {
    "ExecuteTime": {
     "end_time": "2019-04-24T00:33:26.279351Z",
     "start_time": "2019-04-24T00:33:26.233043Z"
    }
   },
   "outputs": [],
   "source": [
    "model.compile(optimizer='adam', loss='binary_crossentropy', metrics=['accuracy'])"
   ]
  },
  {
   "cell_type": "code",
   "execution_count": null,
   "metadata": {
    "ExecuteTime": {
     "end_time": "2019-04-24T00:34:04.624947Z",
     "start_time": "2019-04-24T00:33:26.376653Z"
    }
   },
   "outputs": [
    {
     "name": "stdout",
     "output_type": "stream",
     "text": [
      "Epoch 1/5\n",
      "4900/8428 [================>.............] - ETA: 294s - loss: 4.4084 - acc: 0.4660"
     ]
    }
   ],
   "source": [
    "model.fit(X, y, batch_size=100, epochs=5)"
   ]
  },
  {
   "cell_type": "code",
   "execution_count": 19,
   "metadata": {},
   "outputs": [
    {
     "data": {
      "text/plain": [
       "(array([[0., 1.],\n",
       "        [1., 0.]]), array([4902, 3526]))"
      ]
     },
     "execution_count": 19,
     "metadata": {},
     "output_type": "execute_result"
    }
   ],
   "source": [
    "np.unique(y,axis=0, return_counts=True)"
   ]
  },
  {
   "cell_type": "code",
   "execution_count": null,
   "metadata": {},
   "outputs": [],
   "source": []
  }
 ],
 "metadata": {
  "kernelspec": {
   "display_name": "Python 3",
   "language": "python",
   "name": "python3"
  },
  "language_info": {
   "codemirror_mode": {
    "name": "ipython",
    "version": 3
   },
   "file_extension": ".py",
   "mimetype": "text/x-python",
   "name": "python",
   "nbconvert_exporter": "python",
   "pygments_lexer": "ipython3",
   "version": "3.6.5"
  }
 },
 "nbformat": 4,
 "nbformat_minor": 2
}
