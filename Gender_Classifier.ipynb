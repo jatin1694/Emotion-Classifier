{
  "nbformat": 4,
  "nbformat_minor": 0,
  "metadata": {
    "colab": {
      "name": "Gender Classifier.ipynb",
      "version": "0.3.2",
      "provenance": [],
      "collapsed_sections": []
    },
    "kernelspec": {
      "name": "python3",
      "display_name": "Python 3"
    },
    "accelerator": "GPU"
  },
  "cells": [
    {
      "metadata": {
        "id": "WL8Zevs9wTJ0",
        "colab_type": "code",
        "outputId": "ab5782d3-1ffb-49c0-ae12-5ed09a2079e5",
        "colab": {
          "base_uri": "https://localhost:8080/",
          "height": 34
        }
      },
      "cell_type": "code",
      "source": [
        "import numpy as np\n",
        "import cv2\n",
        "import matplotlib.pyplot as plt\n",
        "import os\n",
        "from sklearn.preprocessing import OneHotEncoder\n",
        "\n",
        "from keras.models import Sequential\n",
        "from keras.layers import Conv2D, MaxPooling2D, BatchNormalization, Dropout, Flatten, Dense\n",
        "\n",
        "import pandas as pd\n",
        "import traceback\n",
        "from sklearn.model_selection import cross_val_score, GridSearchCV\n",
        "from sklearn.model_selection import train_test_split\n",
        "from sklearn.preprocessing import OneHotEncoder\n",
        "os.environ['KMP_DUPLICATE_LIB_OK']='True'\n"
      ],
      "execution_count": 1,
      "outputs": [
        {
          "output_type": "stream",
          "text": [
            "Using TensorFlow backend.\n"
          ],
          "name": "stderr"
        }
      ]
    },
    {
      "metadata": {
        "id": "yTX2tKn4w78c",
        "colab_type": "code",
        "colab": {}
      },
      "cell_type": "code",
      "source": [
        "def read_UTK(startpath):\n",
        "    X = []\n",
        "    y = []\n",
        "    try:\n",
        "        for root, dirs, files in os.walk(startpath):\n",
        "            for file in files:\n",
        "                if file[-3:] == 'jpg':\n",
        "                    names = file.split('_')\n",
        "                    if int(names[0]) > 17 and int(names[0]) < 35:\n",
        "                      \n",
        "                      y.append(names[1])\n",
        "                      img = cv2.imread(root + file,cv2.IMREAD_GRAYSCALE)\n",
        "                      X.append(img)\n",
        "                \n",
        "    except Exception as err:\n",
        "        traceback.print_tb(err.__traceback__)\n",
        "    return np.array(X,dtype='float'), np.array(y,dtype='uint8')"
      ],
      "execution_count": 0,
      "outputs": []
    },
    {
      "metadata": {
        "id": "p6UjQaSlxDpm",
        "colab_type": "code",
        "colab": {}
      },
      "cell_type": "code",
      "source": [
        "UTK_path = 'UTKFace/'\n",
        "X,y = read_UTK(UTK_path)\n",
        "y_translation = {\n",
        "    0: 'Male',\n",
        "    1: 'Female',\n",
        "}"
      ],
      "execution_count": 0,
      "outputs": []
    },
    {
      "metadata": {
        "id": "cJzMeyK80vxW",
        "colab_type": "code",
        "colab": {}
      },
      "cell_type": "code",
      "source": [
        "X = np.expand_dims(X, -1)\n",
        "oht = OneHotEncoder(categories='auto', sparse=False)\n",
        "y = oht.fit_transform(y.reshape(-1,1))"
      ],
      "execution_count": 0,
      "outputs": []
    },
    {
      "metadata": {
        "id": "LOLYEhG-2U-b",
        "colab_type": "code",
        "colab": {}
      },
      "cell_type": "code",
      "source": [
        "X_train, X_test, y_train, y_test = train_test_split(X,y)\n",
        "classes = 2\n",
        "inputShape = (200,200,1)"
      ],
      "execution_count": 0,
      "outputs": []
    },
    {
      "metadata": {
        "id": "ILZ8u5w92W72",
        "colab_type": "code",
        "colab": {}
      },
      "cell_type": "code",
      "source": [
        "model = Sequential()\n",
        "model.add(Conv2D(32, (3,3), input_shape=inputShape, activation = 'relu'))\n",
        "model.add(BatchNormalization())\n",
        "model.add(MaxPooling2D(pool_size=(3,3)))\n",
        "model.add(Dropout(0.25))\n",
        "\n",
        "model.add(Conv2D(64, (3,3), activation = 'relu'))\n",
        "model.add(BatchNormalization())\n",
        "model.add(Conv2D(64, (3,3), activation = 'relu'))\n",
        "model.add(BatchNormalization())\n",
        "model.add(MaxPooling2D(pool_size=(2,2)))\n",
        "model.add(Dropout(0.25))\n",
        "\n",
        "model.add(Conv2D(128, (3,3), activation = 'relu'))\n",
        "model.add(BatchNormalization())\n",
        "model.add(Conv2D(128, (3,3), activation = 'relu'))\n",
        "model.add(BatchNormalization())\n",
        "model.add(MaxPooling2D(pool_size=(2,2)))\n",
        "model.add(Dropout(0.25))\n",
        "\n",
        "model.add(Flatten())\n",
        "model.add(Dense(256, activation='relu'))\n",
        "model.add(BatchNormalization())\n",
        "model.add(Dropout(0.5))\n",
        "\n",
        "model.add(Dense(classes, activation = 'softmax'))"
      ],
      "execution_count": 0,
      "outputs": []
    },
    {
      "metadata": {
        "id": "rSmlEvBW2bOy",
        "colab_type": "code",
        "colab": {}
      },
      "cell_type": "code",
      "source": [
        "model.compile(optimizer='adam', loss='binary_crossentropy', metrics=['accuracy'])"
      ],
      "execution_count": 0,
      "outputs": []
    },
    {
      "metadata": {
        "id": "rtoi68-e2c1-",
        "colab_type": "code",
        "outputId": "be2e52a5-3cf4-4f48-9531-2780103e86e5",
        "colab": {
          "base_uri": "https://localhost:8080/",
          "height": 442
        }
      },
      "cell_type": "code",
      "source": [
        "model.fit(X_train, y_train, batch_size=200, epochs=12)"
      ],
      "execution_count": 0,
      "outputs": [
        {
          "output_type": "stream",
          "text": [
            "Epoch 1/12\n",
            "7495/7495 [==============================] - 15s 2ms/step - loss: 0.1286 - acc: 0.9581\n",
            "Epoch 2/12\n",
            "7495/7495 [==============================] - 15s 2ms/step - loss: 0.1131 - acc: 0.9646\n",
            "Epoch 3/12\n",
            "7495/7495 [==============================] - 15s 2ms/step - loss: 0.1191 - acc: 0.9626\n",
            "Epoch 4/12\n",
            "7495/7495 [==============================] - 15s 2ms/step - loss: 0.1177 - acc: 0.9616\n",
            "Epoch 5/12\n",
            "7495/7495 [==============================] - 15s 2ms/step - loss: 0.0965 - acc: 0.9704\n",
            "Epoch 6/12\n",
            "7495/7495 [==============================] - 15s 2ms/step - loss: 0.0810 - acc: 0.9744\n",
            "Epoch 7/12\n",
            "7495/7495 [==============================] - 15s 2ms/step - loss: 0.0819 - acc: 0.9709\n",
            "Epoch 8/12\n",
            "7495/7495 [==============================] - 15s 2ms/step - loss: 0.0764 - acc: 0.9761\n",
            "Epoch 9/12\n",
            "7495/7495 [==============================] - 15s 2ms/step - loss: 0.0642 - acc: 0.9811\n",
            "Epoch 10/12\n",
            "7495/7495 [==============================] - 15s 2ms/step - loss: 0.0636 - acc: 0.9791\n",
            "Epoch 11/12\n",
            "7495/7495 [==============================] - 15s 2ms/step - loss: 0.0639 - acc: 0.9804\n",
            "Epoch 12/12\n",
            "7495/7495 [==============================] - 15s 2ms/step - loss: 0.0601 - acc: 0.9805\n"
          ],
          "name": "stdout"
        },
        {
          "output_type": "execute_result",
          "data": {
            "text/plain": [
              "<keras.callbacks.History at 0x7fe7807a4748>"
            ]
          },
          "metadata": {
            "tags": []
          },
          "execution_count": 18
        }
      ]
    },
    {
      "metadata": {
        "id": "FMkp_UrG25O1",
        "colab_type": "code",
        "outputId": "6f2643cc-a47f-495c-c722-87f3456f7689",
        "colab": {
          "base_uri": "https://localhost:8080/",
          "height": 51
        }
      },
      "cell_type": "code",
      "source": [
        "loss, acc = model.evaluate(X_test, y_test, verbose=0)\n",
        "print('Testing loss: {}, acc: {}\\n'.format(loss, acc))"
      ],
      "execution_count": 0,
      "outputs": [
        {
          "output_type": "stream",
          "text": [
            "Testing loss: 0.19390694362719973, acc: 0.9391756702681072\n",
            "\n"
          ],
          "name": "stdout"
        }
      ]
    },
    {
      "metadata": {
        "id": "OCp5zshFepD2",
        "colab_type": "code",
        "colab": {}
      },
      "cell_type": "code",
      "source": [
        "model.save('gender_classifier_model')"
      ],
      "execution_count": 0,
      "outputs": []
    },
    {
      "metadata": {
        "id": "Qo3jWu9lfM0L",
        "colab_type": "code",
        "colab": {}
      },
      "cell_type": "code",
      "source": [
        "from joblib import dump, load\n",
        "from sklearn.svm import SVC\n",
        "from sklearn.linear_model import LogisticRegression\n",
        "from sklearn.naive_bayes import BernoulliNB\n",
        "from sklearn.decomposition import PCA"
      ],
      "execution_count": 0,
      "outputs": []
    },
    {
      "metadata": {
        "id": "zKtMAH91gxFN",
        "colab_type": "code",
        "colab": {}
      },
      "cell_type": "code",
      "source": [
        "svc = SVC()\n",
        "pca = PCA(100)\n",
        "X_train_reduced = pca.fit_transform(X_train.reshape(X_train.shape[0], -1))\n",
        "X_test_reduced = pca.transform(X_test.reshape(X_test.shape[0], -1))"
      ],
      "execution_count": 0,
      "outputs": []
    },
    {
      "metadata": {
        "id": "ieizVlB3q5jk",
        "colab_type": "code",
        "colab": {}
      },
      "cell_type": "code",
      "source": [
        "logreg = LogisticRegression()\n",
        "nb = BernoulliNB()"
      ],
      "execution_count": 0,
      "outputs": []
    },
    {
      "metadata": {
        "id": "qNrVs2lOgy_f",
        "colab_type": "code",
        "outputId": "e226a73d-6bf8-4d16-a485-f8cd5a9e0384",
        "colab": {
          "base_uri": "https://localhost:8080/",
          "height": 139
        }
      },
      "cell_type": "code",
      "source": [
        "svc.fit(X_train_reduced, np.argmax(y_train, axis=1))"
      ],
      "execution_count": 11,
      "outputs": [
        {
          "output_type": "stream",
          "text": [
            "/usr/local/lib/python3.6/dist-packages/sklearn/svm/base.py:196: FutureWarning: The default value of gamma will change from 'auto' to 'scale' in version 0.22 to account better for unscaled features. Set gamma explicitly to 'auto' or 'scale' to avoid this warning.\n",
            "  \"avoid this warning.\", FutureWarning)\n"
          ],
          "name": "stderr"
        },
        {
          "output_type": "execute_result",
          "data": {
            "text/plain": [
              "SVC(C=1.0, cache_size=200, class_weight=None, coef0=0.0,\n",
              "  decision_function_shape='ovr', degree=3, gamma='auto_deprecated',\n",
              "  kernel='rbf', max_iter=-1, probability=False, random_state=None,\n",
              "  shrinking=True, tol=0.001, verbose=False)"
            ]
          },
          "metadata": {
            "tags": []
          },
          "execution_count": 11
        }
      ]
    },
    {
      "metadata": {
        "id": "ZTdelJlPrmbJ",
        "colab_type": "code",
        "colab": {
          "base_uri": "https://localhost:8080/",
          "height": 34
        },
        "outputId": "b576ed38-d191-48a1-a0db-136397a8bc68"
      },
      "cell_type": "code",
      "source": [
        "svc.score(X_test_reduced, np.argmax(y_test, axis=1))"
      ],
      "execution_count": 12,
      "outputs": [
        {
          "output_type": "execute_result",
          "data": {
            "text/plain": [
              "0.5762304921968787"
            ]
          },
          "metadata": {
            "tags": []
          },
          "execution_count": 12
        }
      ]
    },
    {
      "metadata": {
        "id": "e7N21y1-hCaz",
        "colab_type": "code",
        "colab": {
          "base_uri": "https://localhost:8080/",
          "height": 88
        },
        "outputId": "afb44288-cfe1-43e1-8438-772b1ec8095b"
      },
      "cell_type": "code",
      "source": [
        "logreg.fit(X_train_reduced, np.argmax(y_train, axis=1))\n",
        "logreg.score(X_test_reduced, np.argmax(y_test, axis=1))"
      ],
      "execution_count": 13,
      "outputs": [
        {
          "output_type": "stream",
          "text": [
            "/usr/local/lib/python3.6/dist-packages/sklearn/linear_model/logistic.py:433: FutureWarning: Default solver will be changed to 'lbfgs' in 0.22. Specify a solver to silence this warning.\n",
            "  FutureWarning)\n"
          ],
          "name": "stderr"
        },
        {
          "output_type": "execute_result",
          "data": {
            "text/plain": [
              "0.902360944377751"
            ]
          },
          "metadata": {
            "tags": []
          },
          "execution_count": 13
        }
      ]
    },
    {
      "metadata": {
        "id": "KY4DRN8ZsDx1",
        "colab_type": "code",
        "colab": {
          "base_uri": "https://localhost:8080/",
          "height": 34
        },
        "outputId": "11d4ec44-2144-4535-e7e9-d94dcba5e276"
      },
      "cell_type": "code",
      "source": [
        "nb.fit(X_train_reduced, np.argmax(y_train, axis=1))\n",
        "nb.score(X_test_reduced, np.argmax(y_test, axis=1))"
      ],
      "execution_count": 14,
      "outputs": [
        {
          "output_type": "execute_result",
          "data": {
            "text/plain": [
              "0.8011204481792717"
            ]
          },
          "metadata": {
            "tags": []
          },
          "execution_count": 14
        }
      ]
    },
    {
      "metadata": {
        "id": "3shYKs-ssHY6",
        "colab_type": "code",
        "colab": {}
      },
      "cell_type": "code",
      "source": [
        ""
      ],
      "execution_count": 0,
      "outputs": []
    }
  ]
}