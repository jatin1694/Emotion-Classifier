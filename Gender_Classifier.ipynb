{
 "cells": [
  {
   "cell_type": "code",
   "execution_count": 3,
   "metadata": {
    "colab": {
     "base_uri": "https://localhost:8080/",
     "height": 34
    },
    "colab_type": "code",
    "id": "WL8Zevs9wTJ0",
    "outputId": "e8fd82d9-ccdc-492f-ea1e-ecfa2966f35b"
   },
   "outputs": [
    {
     "name": "stderr",
     "output_type": "stream",
     "text": [
      "Using TensorFlow backend.\n"
     ]
    }
   ],
   "source": [
    "import numpy as np\n",
    "import cv2\n",
    "import matplotlib.pyplot as plt\n",
    "import os\n",
    "from sklearn.preprocessing import OneHotEncoder\n",
    "\n",
    "from keras.models import Sequential\n",
    "from keras.layers import Conv2D, MaxPooling2D, BatchNormalization, Dropout, Flatten, Dense\n",
    "\n",
    "import pandas as pd\n",
    "import traceback\n",
    "from sklearn.model_selection import cross_val_score, GridSearchCV\n",
    "from sklearn.model_selection import train_test_split\n",
    "from sklearn.preprocessing import OneHotEncoder\n",
    "os.environ['KMP_DUPLICATE_LIB_OK']='True'\n"
   ]
  },
  {
   "cell_type": "code",
   "execution_count": 0,
   "metadata": {
    "colab": {},
    "colab_type": "code",
    "id": "yTX2tKn4w78c"
   },
   "outputs": [],
   "source": [
    "def read_UTK(startpath):\n",
    "    X = []\n",
    "    y = []\n",
    "    try:\n",
    "        for root, dirs, files in os.walk(startpath):\n",
    "            for file in files:\n",
    "                if file[-3:] == 'jpg':\n",
    "                    names = file.split('_')\n",
    "                    if int(names[0]) > 17 and int(names[0]) < 35:\n",
    "                      \n",
    "                      y.append(names[1])\n",
    "                      img = cv2.imread(root + file,cv2.IMREAD_GRAYSCALE)\n",
    "                      X.append(img)\n",
    "                \n",
    "    except Exception as err:\n",
    "        traceback.print_tb(err.__traceback__)\n",
    "    return np.array(X,dtype='float'), np.array(y,dtype='uint8')"
   ]
  },
  {
   "cell_type": "code",
   "execution_count": 0,
   "metadata": {
    "colab": {},
    "colab_type": "code",
    "id": "p6UjQaSlxDpm"
   },
   "outputs": [],
   "source": [
    "UTK_path = 'UTKFace/'\n",
    "X,y = read_UTK(UTK_path)\n",
    "y_translation = {\n",
    "    0: 'Male',\n",
    "    1: 'Female',\n",
    "}"
   ]
  },
  {
   "cell_type": "code",
   "execution_count": 0,
   "metadata": {
    "colab": {},
    "colab_type": "code",
    "id": "cJzMeyK80vxW"
   },
   "outputs": [],
   "source": [
    "X = np.expand_dims(X, -1)\n",
    "oht = OneHotEncoder(categories='auto', sparse=False)\n",
    "y = oht.fit_transform(y.reshape(-1,1))"
   ]
  },
  {
   "cell_type": "code",
   "execution_count": 0,
   "metadata": {
    "colab": {},
    "colab_type": "code",
    "id": "LOLYEhG-2U-b"
   },
   "outputs": [],
   "source": [
    "X_train, X_test, y_train, y_test = train_test_split(X,y)\n",
    "classes = 2\n",
    "inputShape = (200,200,1)"
   ]
  },
  {
   "cell_type": "code",
   "execution_count": 0,
   "metadata": {
    "colab": {},
    "colab_type": "code",
    "id": "ILZ8u5w92W72"
   },
   "outputs": [],
   "source": [
    "model = Sequential()\n",
    "model.add(Conv2D(32, (3,3), input_shape=inputShape, activation = 'relu'))\n",
    "model.add(BatchNormalization())\n",
    "model.add(MaxPooling2D(pool_size=(3,3)))\n",
    "model.add(Dropout(0.25))\n",
    "\n",
    "model.add(Conv2D(64, (3,3), activation = 'relu'))\n",
    "model.add(BatchNormalization())\n",
    "model.add(Conv2D(64, (3,3), activation = 'relu'))\n",
    "model.add(BatchNormalization())\n",
    "model.add(MaxPooling2D(pool_size=(2,2)))\n",
    "model.add(Dropout(0.25))\n",
    "\n",
    "model.add(Conv2D(128, (3,3), activation = 'relu'))\n",
    "model.add(BatchNormalization())\n",
    "model.add(Conv2D(128, (3,3), activation = 'relu'))\n",
    "model.add(BatchNormalization())\n",
    "model.add(MaxPooling2D(pool_size=(2,2)))\n",
    "model.add(Dropout(0.25))\n",
    "\n",
    "model.add(Flatten())\n",
    "model.add(Dense(256, activation='relu'))\n",
    "model.add(BatchNormalization())\n",
    "model.add(Dropout(0.5))\n",
    "\n",
    "model.add(Dense(classes, activation = 'softmax'))"
   ]
  },
  {
   "cell_type": "code",
   "execution_count": 0,
   "metadata": {
    "colab": {},
    "colab_type": "code",
    "id": "rSmlEvBW2bOy"
   },
   "outputs": [],
   "source": [
    "model.compile(optimizer='adam', loss='binary_crossentropy', metrics=['accuracy'])"
   ]
  },
  {
   "cell_type": "code",
   "execution_count": 18,
   "metadata": {
    "colab": {
     "base_uri": "https://localhost:8080/",
     "height": 442
    },
    "colab_type": "code",
    "id": "rtoi68-e2c1-",
    "outputId": "be2e52a5-3cf4-4f48-9531-2780103e86e5"
   },
   "outputs": [
    {
     "name": "stdout",
     "output_type": "stream",
     "text": [
      "Epoch 1/12\n",
      "7495/7495 [==============================] - 15s 2ms/step - loss: 0.1286 - acc: 0.9581\n",
      "Epoch 2/12\n",
      "7495/7495 [==============================] - 15s 2ms/step - loss: 0.1131 - acc: 0.9646\n",
      "Epoch 3/12\n",
      "7495/7495 [==============================] - 15s 2ms/step - loss: 0.1191 - acc: 0.9626\n",
      "Epoch 4/12\n",
      "7495/7495 [==============================] - 15s 2ms/step - loss: 0.1177 - acc: 0.9616\n",
      "Epoch 5/12\n",
      "7495/7495 [==============================] - 15s 2ms/step - loss: 0.0965 - acc: 0.9704\n",
      "Epoch 6/12\n",
      "7495/7495 [==============================] - 15s 2ms/step - loss: 0.0810 - acc: 0.9744\n",
      "Epoch 7/12\n",
      "7495/7495 [==============================] - 15s 2ms/step - loss: 0.0819 - acc: 0.9709\n",
      "Epoch 8/12\n",
      "7495/7495 [==============================] - 15s 2ms/step - loss: 0.0764 - acc: 0.9761\n",
      "Epoch 9/12\n",
      "7495/7495 [==============================] - 15s 2ms/step - loss: 0.0642 - acc: 0.9811\n",
      "Epoch 10/12\n",
      "7495/7495 [==============================] - 15s 2ms/step - loss: 0.0636 - acc: 0.9791\n",
      "Epoch 11/12\n",
      "7495/7495 [==============================] - 15s 2ms/step - loss: 0.0639 - acc: 0.9804\n",
      "Epoch 12/12\n",
      "7495/7495 [==============================] - 15s 2ms/step - loss: 0.0601 - acc: 0.9805\n"
     ]
    },
    {
     "data": {
      "text/plain": [
       "<keras.callbacks.History at 0x7fe7807a4748>"
      ]
     },
     "execution_count": 18,
     "metadata": {
      "tags": []
     },
     "output_type": "execute_result"
    }
   ],
   "source": [
    "model.fit(X_train, y_train, batch_size=200, epochs=12)"
   ]
  },
  {
   "cell_type": "code",
   "execution_count": 19,
   "metadata": {
    "colab": {
     "base_uri": "https://localhost:8080/",
     "height": 51
    },
    "colab_type": "code",
    "id": "FMkp_UrG25O1",
    "outputId": "6f2643cc-a47f-495c-c722-87f3456f7689"
   },
   "outputs": [
    {
     "name": "stdout",
     "output_type": "stream",
     "text": [
      "Testing loss: 0.19390694362719973, acc: 0.9391756702681072\n",
      "\n"
     ]
    }
   ],
   "source": [
    "loss, acc = model.evaluate(X_test, y_test, verbose=0)\n",
    "print('Testing loss: {}, acc: {}\\n'.format(loss, acc))"
   ]
  },
  {
   "cell_type": "code",
   "execution_count": 0,
   "metadata": {
    "colab": {},
    "colab_type": "code",
    "id": "OCp5zshFepD2"
   },
   "outputs": [],
   "source": []
  }
 ],
 "metadata": {
  "accelerator": "GPU",
  "colab": {
   "collapsed_sections": [],
   "name": "Gender Classifier.ipynb",
   "provenance": [],
   "version": "0.3.2"
  },
  "kernelspec": {
   "display_name": "Python 3",
   "language": "python",
   "name": "python3"
  },
  "language_info": {
   "codemirror_mode": {
    "name": "ipython",
    "version": 3
   },
   "file_extension": ".py",
   "mimetype": "text/x-python",
   "name": "python",
   "nbconvert_exporter": "python",
   "pygments_lexer": "ipython3",
   "version": "3.6.4"
  }
 },
 "nbformat": 4,
 "nbformat_minor": 1
}
