{
 "cells": [
  {
   "cell_type": "code",
   "execution_count": 18,
   "metadata": {
    "ExecuteTime": {
     "end_time": "2019-04-20T23:56:49.856631Z",
     "start_time": "2019-04-20T23:56:49.852661Z"
    }
   },
   "outputs": [],
   "source": [
    "from scipy.io import loadmat\n",
    "import pandas as pd\n",
    "import numpy as np\n",
    "from random import shuffle\n",
    "import os\n",
    "import cv2\n",
    "from sklearn.svm import SVC\n",
    "from sklearn.preprocessing import OneHotEncoder\n",
    "from sklearn.metrics import accu"
   ]
  },
  {
   "cell_type": "code",
   "execution_count": 2,
   "metadata": {
    "ExecuteTime": {
     "end_time": "2019-04-20T23:49:39.275839Z",
     "start_time": "2019-04-20T23:49:34.908016Z"
    }
   },
   "outputs": [],
   "source": [
    "fer_path = '../Data/challenges-in-representation-learning-facial-expression-recognition-challenge/fer2013/fer2013.csv'\n",
    "data = pd.read_csv(fer_path)"
   ]
  },
  {
   "cell_type": "code",
   "execution_count": 22,
   "metadata": {
    "ExecuteTime": {
     "end_time": "2019-04-20T23:58:49.057892Z",
     "start_time": "2019-04-20T23:58:20.871951Z"
    }
   },
   "outputs": [],
   "source": [
    "training_pixels = data[data['Usage'] == 'Training']['pixels'].tolist()\n",
    "width, height = 48, 48\n",
    "image_size = (width, height)\n",
    "X_train = []\n",
    "for pixel_sequence in training_pixels:\n",
    "    face = [int(pixel) for pixel in pixel_sequence.split(' ')]\n",
    "    face = np.asarray(face).reshape(width, height)\n",
    "    #     face = cv2.resize(face.astype('uint8'), image_size)\n",
    "    X_train.append(face.astype('float32'))\n",
    "    \n",
    "X_train = np.asarray(X_train)\n",
    "X_train = X_train.reshape(X_train.shape[0], -1)\n",
    "y_train = data[data['Usage'] == 'Training']['emotion'].values"
   ]
  },
  {
   "cell_type": "code",
   "execution_count": 23,
   "metadata": {
    "ExecuteTime": {
     "end_time": "2019-04-20T23:58:52.257073Z",
     "start_time": "2019-04-20T23:58:49.060104Z"
    }
   },
   "outputs": [],
   "source": [
    "training_pixels = data[data['Usage'] == 'PublicTest']['pixels'].tolist()\n",
    "width, height = 48, 48\n",
    "image_size = (width, height)\n",
    "X_test = []\n",
    "for pixel_sequence in training_pixels:\n",
    "    face = [int(pixel) for pixel in pixel_sequence.split(' ')]\n",
    "    face = np.asarray(face).reshape(width, height)\n",
    "    #     face = cv2.resize(face.astype('uint8'), image_size)\n",
    "    X_test.append(face.astype('float32'))\n",
    "X_test = np.asarray(X_test)\n",
    "\n",
    "X_test = X_test.reshape(X_test.shape[0], -1)\n",
    "y_test = data[data['Usage'] == 'PublicTest']['emotion'].values"
   ]
  },
  {
   "cell_type": "code",
   "execution_count": 26,
   "metadata": {
    "ExecuteTime": {
     "end_time": "2019-04-20T23:58:58.331356Z",
     "start_time": "2019-04-20T23:58:58.327109Z"
    }
   },
   "outputs": [
    {
     "data": {
      "text/plain": [
       "array([0, 0, 2, ..., 4, 0, 4])"
      ]
     },
     "execution_count": 26,
     "metadata": {},
     "output_type": "execute_result"
    }
   ],
   "source": [
    "y_train"
   ]
  },
  {
   "cell_type": "code",
   "execution_count": 19,
   "metadata": {
    "ExecuteTime": {
     "end_time": "2019-04-20T23:57:02.292655Z",
     "start_time": "2019-04-20T23:57:02.289901Z"
    }
   },
   "outputs": [],
   "source": [
    "y_tr\n",
    "svc = SVC()\n"
   ]
  },
  {
   "cell_type": "code",
   "execution_count": null,
   "metadata": {
    "ExecuteTime": {
     "start_time": "2019-04-20T23:59:10.983Z"
    }
   },
   "outputs": [
    {
     "name": "stderr",
     "output_type": "stream",
     "text": [
      "/Users/visheshhemnani/anaconda3/envs/ml_proj/lib/python3.6/site-packages/sklearn/svm/base.py:196: FutureWarning: The default value of gamma will change from 'auto' to 'scale' in version 0.22 to account better for unscaled features. Set gamma explicitly to 'auto' or 'scale' to avoid this warning.\n",
      "  \"avoid this warning.\", FutureWarning)\n"
     ]
    }
   ],
   "source": [
    "svc.fit(X_train, y_train)"
   ]
  },
  {
   "cell_type": "code",
   "execution_count": null,
   "metadata": {},
   "outputs": [],
   "source": [
    "svc."
   ]
  }
 ],
 "metadata": {
  "kernelspec": {
   "display_name": "Python 3",
   "language": "python",
   "name": "python3"
  },
  "language_info": {
   "codemirror_mode": {
    "name": "ipython",
    "version": 3
   },
   "file_extension": ".py",
   "mimetype": "text/x-python",
   "name": "python",
   "nbconvert_exporter": "python",
   "pygments_lexer": "ipython3",
   "version": "3.6.4"
  }
 },
 "nbformat": 4,
 "nbformat_minor": 2
}
