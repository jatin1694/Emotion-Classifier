{
 "cells": [
  {
   "cell_type": "code",
   "execution_count": 57,
   "metadata": {
    "ExecuteTime": {
     "end_time": "2019-04-19T14:56:39.816240Z",
     "start_time": "2019-04-19T14:56:36.864510Z"
    },
    "scrolled": true
   },
   "outputs": [
    {
     "name": "stderr",
     "output_type": "stream",
     "text": [
      "Using TensorFlow backend.\n"
     ]
    }
   ],
   "source": [
    "from scipy.io import loadmat\n",
    "import pandas as pd\n",
    "import numpy as np\n",
    "from random import shuffle\n",
    "import os\n",
    "import cv2\n",
    "from keras.models import Sequential\n",
    "from keras.layers import Conv2D, MaxPooling2D, BatchNormalization, Dropout, Flatten, Dense\n"
   ]
  },
  {
   "cell_type": "code",
   "execution_count": 66,
   "metadata": {
    "ExecuteTime": {
     "end_time": "2019-04-19T14:59:12.133228Z",
     "start_time": "2019-04-19T14:59:08.593706Z"
    }
   },
   "outputs": [],
   "source": [
    "fer_path = '../Data/challenges-in-representation-learning-facial-expression-recognition-challenge/fer2013/fer2013.csv'\n",
    "data = pd.read_csv(fer_path)"
   ]
  },
  {
   "cell_type": "code",
   "execution_count": 67,
   "metadata": {
    "ExecuteTime": {
     "end_time": "2019-04-19T14:59:12.175930Z",
     "start_time": "2019-04-19T14:59:12.138211Z"
    }
   },
   "outputs": [
    {
     "data": {
      "text/plain": [
       "(array(['PrivateTest', 'PublicTest', 'Training'], dtype=object),\n",
       " array([ 3589,  3589, 28709]))"
      ]
     },
     "execution_count": 67,
     "metadata": {},
     "output_type": "execute_result"
    }
   ],
   "source": [
    "np.unique(data['Usage'], return_counts=True)"
   ]
  },
  {
   "cell_type": "code",
   "execution_count": 69,
   "metadata": {
    "ExecuteTime": {
     "end_time": "2019-04-19T14:59:42.716064Z",
     "start_time": "2019-04-19T14:59:25.570543Z"
    }
   },
   "outputs": [],
   "source": [
    "training_pixels = data[data['Usage'] == 'Training']['pixels'].tolist()\n",
    "width, height = 48, 48\n",
    "image_size = (width, height)\n",
    "X_train = []\n",
    "for pixel_sequence in training_pixels:\n",
    "    face = [int(pixel) for pixel in pixel_sequence.split(' ')]\n",
    "    face = np.asarray(face).reshape(width, height)\n",
    "    #     face = cv2.resize(face.astype('uint8'), image_size)\n",
    "    X_train.append(face.astype('float32'))\n",
    "    \n",
    "X_train = np.asarray(X_train)\n",
    "X_train = np.expand_dims(X_train, -1)\n",
    "y_train = pd.get_dummies(data[data['Usage'] == 'Training']['emotion']).values"
   ]
  },
  {
   "cell_type": "code",
   "execution_count": 78,
   "metadata": {
    "ExecuteTime": {
     "end_time": "2019-04-19T15:16:29.615851Z",
     "start_time": "2019-04-19T15:16:27.385372Z"
    }
   },
   "outputs": [],
   "source": [
    "training_pixels = data[data['Usage'] == 'PublicTest']['pixels'].tolist()\n",
    "width, height = 48, 48\n",
    "image_size = (width, height)\n",
    "X_test = []\n",
    "for pixel_sequence in training_pixels:\n",
    "    face = [int(pixel) for pixel in pixel_sequence.split(' ')]\n",
    "    face = np.asarray(face).reshape(width, height)\n",
    "    #     face = cv2.resize(face.astype('uint8'), image_size)\n",
    "    X_test.append(face.astype('float32'))\n",
    "X_test = np.asarray(X_test)\n",
    "\n",
    "X_test = np.expand_dims(X_test, -1)\n",
    "y_test = pd.get_dummies(data[data['Usage'] == 'PublicTest']['emotion']).values"
   ]
  },
  {
   "cell_type": "markdown",
   "metadata": {},
   "source": [
    "Faces shape type is (#records, image_width, image_height, 1)"
   ]
  },
  {
   "cell_type": "code",
   "execution_count": 90,
   "metadata": {
    "ExecuteTime": {
     "end_time": "2019-04-19T15:37:58.090913Z",
     "start_time": "2019-04-19T15:37:57.774023Z"
    }
   },
   "outputs": [],
   "source": [
    "IMG_SIZE = 48\n",
    "model = Sequential()\n",
    "model.add(Conv2D(64, kernel_size = (3, 3), activation='relu', input_shape=(IMG_SIZE, IMG_SIZE, 1)))\n",
    "model.add(Conv2D(64, kernel_size=(3,3), activation='relu'))\n",
    "model.add(MaxPooling2D(pool_size=(2,2)))\n",
    "model.add(BatchNormalization())\n",
    "# model.add(MaxPooling2D(pool_size=(2,2)))\n",
    "# model.add(BatchNormalization())\n",
    "model.add(Conv2D(64, kernel_size=(3,3), activation='relu'))\n",
    "model.add(Conv2D(64, kernel_size=(3,3), activation='relu'))\n",
    "model.add(MaxPooling2D(pool_size=(2,2)))\n",
    "model.add(BatchNormalization())\n",
    "# model.add(Conv2D(96, kernel_size=(3,3), activation='relu'))\n",
    "# model.add(MaxPooling2D(pool_size=(2,2)))\n",
    "# model.add(BatchNormalization())\n",
    "# model.add(Conv2D(32, kernel_size=(3,3), activation='relu'))\n",
    "# model.add(MaxPooling2D(pool_size=(2,2)))\n",
    "# model.add(BatchNormalization())\n",
    "model.add(Dropout(0.2))\n",
    "model.add(Flatten())\n",
    "model.add(Dense(256, activation='relu'))\n",
    "#model.add(Dropout(0.3))\n",
    "model.add(Dense(7, activation = 'softmax'))"
   ]
  },
  {
   "cell_type": "code",
   "execution_count": 91,
   "metadata": {
    "ExecuteTime": {
     "end_time": "2019-04-19T15:52:13.456802Z",
     "start_time": "2019-04-19T15:38:00.533491Z"
    }
   },
   "outputs": [
    {
     "name": "stdout",
     "output_type": "stream",
     "text": [
      "Epoch 1/20\n",
      "28709/28709 [==============================] - 44s 2ms/step - loss: 1.6273 - acc: 0.3945\n",
      "Epoch 2/20\n",
      "28709/28709 [==============================] - 41s 1ms/step - loss: 1.2921 - acc: 0.5138\n",
      "Epoch 3/20\n",
      "28709/28709 [==============================] - 40s 1ms/step - loss: 1.1516 - acc: 0.5660\n",
      "Epoch 4/20\n",
      "28709/28709 [==============================] - 40s 1ms/step - loss: 1.0403 - acc: 0.6115\n",
      "Epoch 5/20\n",
      "28709/28709 [==============================] - 40s 1ms/step - loss: 0.9480 - acc: 0.6481\n",
      "Epoch 6/20\n",
      "28709/28709 [==============================] - 41s 1ms/step - loss: 0.8581 - acc: 0.6839\n",
      "Epoch 7/20\n",
      "28709/28709 [==============================] - 40s 1ms/step - loss: 0.7632 - acc: 0.7188\n",
      "Epoch 8/20\n",
      "28709/28709 [==============================] - 41s 1ms/step - loss: 0.6921 - acc: 0.7444\n",
      "Epoch 9/20\n",
      "28709/28709 [==============================] - 41s 1ms/step - loss: 0.6119 - acc: 0.7790\n",
      "Epoch 10/20\n",
      "28709/28709 [==============================] - 41s 1ms/step - loss: 0.5390 - acc: 0.8032\n",
      "Epoch 11/20\n",
      "28709/28709 [==============================] - 41s 1ms/step - loss: 0.4777 - acc: 0.8255\n",
      "Epoch 12/20\n",
      "28709/28709 [==============================] - 41s 1ms/step - loss: 0.4316 - acc: 0.8433\n",
      "Epoch 13/20\n",
      "28709/28709 [==============================] - 41s 1ms/step - loss: 0.3890 - acc: 0.8628\n",
      "Epoch 14/20\n",
      "28709/28709 [==============================] - 49s 2ms/step - loss: 0.3484 - acc: 0.8747\n",
      "Epoch 15/20\n",
      "28709/28709 [==============================] - 48s 2ms/step - loss: 0.3113 - acc: 0.8884\n",
      "Epoch 16/20\n",
      "28709/28709 [==============================] - 50s 2ms/step - loss: 0.3006 - acc: 0.8917: 0s - loss: 0.3001 - acc: \n",
      "Epoch 17/20\n",
      "28709/28709 [==============================] - 47s 2ms/step - loss: 0.2785 - acc: 0.9011\n",
      "Epoch 18/20\n",
      "28709/28709 [==============================] - 41s 1ms/step - loss: 0.2473 - acc: 0.9119\n",
      "Epoch 19/20\n",
      "28709/28709 [==============================] - 42s 1ms/step - loss: 0.2306 - acc: 0.9187\n",
      "Epoch 20/20\n",
      "28709/28709 [==============================] - 44s 2ms/step - loss: 0.2311 - acc: 0.9175\n"
     ]
    },
    {
     "data": {
      "text/plain": [
       "<keras.callbacks.History at 0xebaa87b38>"
      ]
     },
     "execution_count": 91,
     "metadata": {},
     "output_type": "execute_result"
    }
   ],
   "source": [
    "model.compile(optimizer='adam', loss='categorical_crossentropy', metrics=['accuracy'])\n",
    "model.fit(X_train, y_train, batch_size=100, epochs=20, verbose=1)"
   ]
  },
  {
   "cell_type": "code",
   "execution_count": 92,
   "metadata": {
    "ExecuteTime": {
     "end_time": "2019-04-19T15:52:15.213806Z",
     "start_time": "2019-04-19T15:52:13.463016Z"
    }
   },
   "outputs": [],
   "source": [
    "model.save('keras_on_fer')"
   ]
  },
  {
   "cell_type": "code",
   "execution_count": 93,
   "metadata": {
    "ExecuteTime": {
     "end_time": "2019-04-19T15:52:17.613337Z",
     "start_time": "2019-04-19T15:52:15.218056Z"
    }
   },
   "outputs": [
    {
     "name": "stdout",
     "output_type": "stream",
     "text": [
      "Testing loss: 2.0872029694849217, acc: 0.5628308721424378\n",
      "\n"
     ]
    }
   ],
   "source": [
    "loss, acc = model.evaluate(X_test, y_test, verbose=0)\n",
    "print('Testing loss: {}, acc: {}\\n'.format(loss, acc))"
   ]
  },
  {
   "cell_type": "code",
   "execution_count": null,
   "metadata": {},
   "outputs": [],
   "source": []
  }
 ],
 "metadata": {
  "kernelspec": {
   "display_name": "Python 3",
   "language": "python",
   "name": "python3"
  },
  "language_info": {
   "codemirror_mode": {
    "name": "ipython",
    "version": 3
   },
   "file_extension": ".py",
   "mimetype": "text/x-python",
   "name": "python",
   "nbconvert_exporter": "python",
   "pygments_lexer": "ipython3",
   "version": "3.6.4"
  }
 },
 "nbformat": 4,
 "nbformat_minor": 2
}
