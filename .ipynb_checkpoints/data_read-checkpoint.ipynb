{
 "cells": [
  {
   "cell_type": "code",
   "execution_count": null,
   "metadata": {},
   "outputs": [],
   "source": [
    "import numpy as np\n",
    "import cv2\n",
    "\n",
    "#TODO: Add data folder in images to read from our data\n",
    "\n",
    "# Read the start pic for subject 1\n",
    "start_s1 = cv2.imread(\"image/data/S005/001/S005_001_00000001.png\", 0)\n",
    "\n",
    "# Read the end pic for subject 2\n",
    "end_s1 = cv2.imread(\"image/data/S005/001/S005_001_00000011.png\", 0)\n",
    "\n",
    "# print the shape for the image data\n",
    "print(start_s1.shape)\n",
    "print(end_s1.shape)\n",
    "\n",
    "#calculates the difference between start and end pixels\n",
    "print(np.subtract(end_s1, start_s1))\n",
    "\n",
    "#Shows both the images in open CV window\n",
    "cv2.imshow(\"start\", start_s1)\n",
    "cv2.imshow(\"end\", end_s1)\n",
    "cv2.waitKey(0)\n",
    "cv2.destroyAllWindows()\n",
    "\n",
    "#Read the start pic for subject 1\n",
    "start_s2 = cv2.imread(\"image/data/S010/001/S010_001_00000001.png\", 0)\n",
    "\n",
    "#Read the start pic for subject 2\n",
    "end_s2 = cv2.imread(\"image/data/S010/001/S010_001_00000014.png\", 0)\n",
    "\n",
    "print(\"Printing subject 1 difference\")\n",
    "print(np.subtract(end_s2, start_s2))\n",
    "\n",
    "\n",
    "cv2.imshow(\"start\", start_s1)\n",
    "cv2.imshow(\"end\", end_s1)\n",
    "\n",
    "cv2.imshow(\"start\", start_s2)\n",
    "cv2.imshow(\"end\", end_s2)\n",
    "cv2.waitKey(0)\n",
    "cv2.destroyAllWindows()"
   ]
  }
 ],
 "metadata": {
  "kernelspec": {
   "display_name": "Python 3",
   "language": "python",
   "name": "python3"
  },
  "language_info": {
   "codemirror_mode": {
    "name": "ipython",
    "version": 3
   },
   "file_extension": ".py",
   "mimetype": "text/x-python",
   "name": "python",
   "nbconvert_exporter": "python",
   "pygments_lexer": "ipython3",
   "version": "3.7.1"
  }
 },
 "nbformat": 4,
 "nbformat_minor": 2
}
