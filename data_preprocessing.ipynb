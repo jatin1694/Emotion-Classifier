{
 "cells": [
  {
   "cell_type": "markdown",
   "metadata": {},
   "source": [
    "# Data Preprocessing"
   ]
  },
  {
   "cell_type": "code",
   "execution_count": 19,
   "metadata": {},
   "outputs": [],
   "source": [
    "from scipy.io import loadmat\n",
    "import pandas as pd\n",
    "import numpy as np\n",
    "from random import shuffle"
   ]
  },
  {
   "cell_type": "code",
   "execution_count": 20,
   "metadata": {},
   "outputs": [],
   "source": [
    "def fer_data_preprocessing(model):\n",
    "    fer_path = '../Data/challenges-in-representation-learning-facial-expression-recognition-challenge/fer2013/fer2013.csv'\n",
    "    \n",
    "    #Loading the data from file system\n",
    "    data = pd.read_csv(fer_path)\n",
    "    \n",
    "    width, height = 48, 48\n",
    "    image_size = (width, height)\n",
    "    \n",
    "    #Extracting and processing training data\n",
    "    training_pixels = data[data['Usage'] == 'Training']['pixels'].tolist()\n",
    "    X_train = []\n",
    "    for pixel_sequence in training_pixels:\n",
    "        face = [int(pixel) for pixel in pixel_sequence.split(' ')]\n",
    "        face = np.asarray(face).reshape(width, height)\n",
    "        X_train.append(face.astype('float32'))\n",
    "    X_train = np.asarray(X_train)\n",
    "    if model == 1:\n",
    "        X_train = np.expand_dims(X_train, -1)\n",
    "    elif model == 2:\n",
    "        X_train = X_train.reshape(X_train.shape[0], -1)\n",
    "        \n",
    "    y_train = pd.get_dummies(data[data['Usage'] == 'Training']['emotion']).values\n",
    "    \n",
    "    \n",
    "    #Loading and processing Test data\n",
    "    test_pixels = data[data['Usage'] == 'PublicTest']['pixels'].tolist()\n",
    "    X_test = []\n",
    "    for pixel_sequence in test_pixels:\n",
    "        face = [int(pixel) for pixel in pixel_sequence.split(' ')]\n",
    "        face = np.asarray(face).reshape(width, height)\n",
    "        X_test.append(face.astype('float32'))\n",
    "    X_test = np.asarray(X_test)\n",
    "    if model == 1:\n",
    "        X_test = np.expand_dims(X_test, -1)\n",
    "    elif model == 2:\n",
    "        X_test = X_test.reshape(X_test.shape[0], -1)\n",
    "    y_test = pd.get_dummies(data[data['Usage'] == 'PublicTest']['emotion']).values\n",
    "    \n",
    "    return X_train, y_train, X_test, y_test"
   ]
  }
 ],
 "metadata": {
  "kernelspec": {
   "display_name": "Python 3",
   "language": "python",
   "name": "python3"
  },
  "language_info": {
   "codemirror_mode": {
    "name": "ipython",
    "version": 3
   },
   "file_extension": ".py",
   "mimetype": "text/x-python",
   "name": "python",
   "nbconvert_exporter": "python",
   "pygments_lexer": "ipython3",
   "version": "3.6.5"
  }
 },
 "nbformat": 4,
 "nbformat_minor": 2
}
