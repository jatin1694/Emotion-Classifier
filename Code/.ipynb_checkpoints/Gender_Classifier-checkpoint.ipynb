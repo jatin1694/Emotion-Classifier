{
 "cells": [
  {
   "cell_type": "code",
   "execution_count": 1,
   "metadata": {
    "ExecuteTime": {
     "end_time": "2019-04-24T18:36:01.160939Z",
     "start_time": "2019-04-24T18:36:01.154825Z"
    },
    "colab": {
     "base_uri": "https://localhost:8080/",
     "height": 34
    },
    "colab_type": "code",
    "id": "WL8Zevs9wTJ0",
    "outputId": "ab5782d3-1ffb-49c0-ae12-5ed09a2079e5"
   },
   "outputs": [
    {
     "name": "stderr",
     "output_type": "stream",
     "text": [
      "Using TensorFlow backend.\n"
     ]
    }
   ],
   "source": [
    "import seaborn as sns\n",
    "from sklearn.metrics import classification_report\n",
    "from joblib import dump, load\n",
    "from sklearn.decomposition import PCA\n",
    "from sklearn.naive_bayes import BernoulliNB\n",
    "from sklearn.linear_model import LogisticRegressionCV\n",
    "from sklearn.svm import SVC\n",
    "from sklearn.model_selection import GridSearchCV\n",
    "from keras.models import load_model\n",
    "import numpy as np\n",
    "import cv2\n",
    "import matplotlib.pyplot as plt\n",
    "import os\n",
    "from sklearn.preprocessing import OneHotEncoder\n",
    "\n",
    "from keras.models import Sequential\n",
    "from keras.layers import Conv2D, MaxPooling2D, BatchNormalization, Dropout, Flatten, Dense\n",
    "\n",
    "import pandas as pd\n",
    "import traceback\n",
    "from sklearn.model_selection import cross_val_score, GridSearchCV\n",
    "from sklearn.model_selection import train_test_split\n",
    "from sklearn.preprocessing import OneHotEncoder\n",
    "os.environ['KMP_DUPLICATE_LIB_OK'] = 'True'"
   ]
  },
  {
   "cell_type": "markdown",
   "metadata": {},
   "source": [
    "# Data Preprocessing"
   ]
  },
  {
   "cell_type": "code",
   "execution_count": 2,
   "metadata": {
    "ExecuteTime": {
     "end_time": "2019-04-24T17:54:09.700374Z",
     "start_time": "2019-04-24T17:54:09.692277Z"
    },
    "colab": {},
    "colab_type": "code",
    "id": "yTX2tKn4w78c"
   },
   "outputs": [],
   "source": [
    "UTK_path = '../Data/UTKFace/'\n",
    "def read_UTK(startpath):\n",
    "    X = []\n",
    "    y = []\n",
    "    try:\n",
    "        for root, dirs, files in os.walk(startpath):\n",
    "            for file in files:\n",
    "                if file[-3:] == 'jpg':\n",
    "                    names = file.split('_')\n",
    "                    if int(names[0]) > 17 and int(names[0]) < 30:\n",
    "\n",
    "                        y.append(names[1])\n",
    "                        img = cv2.imread(root + file, cv2.IMREAD_GRAYSCALE)\n",
    "                        X.append(img)\n",
    "\n",
    "    except Exception as err:\n",
    "        traceback.print_tb(err.__traceback__)\n",
    "    X, y = np.array(X, dtype='float'), np.array(y, dtype='uint8')\n",
    "    X = np.expand_dims(X, -1)\n",
    "    oht = OneHotEncoder(categories='auto', sparse=False)\n",
    "    y = oht.fit_transform(y.reshape(-1, 1))\n",
    "    X_train, X_test, y_train, y_test = train_test_split(X, y)\n",
    "    return X_train, X_test, y_train, y_test"
   ]
  },
  {
   "cell_type": "code",
   "execution_count": 3,
   "metadata": {
    "ExecuteTime": {
     "end_time": "2019-04-24T17:54:22.922827Z",
     "start_time": "2019-04-24T17:54:10.308261Z"
    },
    "colab": {},
    "colab_type": "code",
    "id": "LOLYEhG-2U-b"
   },
   "outputs": [],
   "source": [
    "y_translation = {\n",
    "    0: 'Male',\n",
    "    1: 'Female',\n",
    "}\n",
    "X_train, X_test, y_train, y_test = read_UTK(UTK_path)\n",
    "classes = 2\n",
    "inputShape = (200, 200, 1)"
   ]
  },
  {
   "cell_type": "code",
   "execution_count": 4,
   "metadata": {
    "ExecuteTime": {
     "end_time": "2019-04-24T18:47:37.828175Z",
     "start_time": "2019-04-24T18:47:37.825333Z"
    }
   },
   "outputs": [],
   "source": [
    "training_errors = []\n",
    "testing_errors = []"
   ]
  },
  {
   "cell_type": "code",
   "execution_count": null,
   "metadata": {},
   "outputs": [],
   "source": []
  },
  {
   "cell_type": "markdown",
   "metadata": {},
   "source": [
    "# Keras Neural Network"
   ]
  },
  {
   "cell_type": "code",
   "execution_count": 5,
   "metadata": {
    "ExecuteTime": {
     "end_time": "2019-04-24T15:37:45.618299Z",
     "start_time": "2019-04-24T15:37:44.568144Z"
    },
    "colab": {},
    "colab_type": "code",
    "id": "ILZ8u5w92W72"
   },
   "outputs": [
    {
     "name": "stdout",
     "output_type": "stream",
     "text": [
      "WARNING:tensorflow:From /home/jatin/anaconda3/lib/python3.6/site-packages/tensorflow/python/framework/op_def_library.py:263: colocate_with (from tensorflow.python.framework.ops) is deprecated and will be removed in a future version.\n",
      "Instructions for updating:\n",
      "Colocations handled automatically by placer.\n",
      "WARNING:tensorflow:From /home/jatin/anaconda3/lib/python3.6/site-packages/keras/backend/tensorflow_backend.py:3445: calling dropout (from tensorflow.python.ops.nn_ops) with keep_prob is deprecated and will be removed in a future version.\n",
      "Instructions for updating:\n",
      "Please use `rate` instead of `keep_prob`. Rate should be set to `rate = 1 - keep_prob`.\n"
     ]
    }
   ],
   "source": [
    "model = Sequential()\n",
    "model.add(Conv2D(32, (3, 3), input_shape=inputShape, activation='relu'))\n",
    "model.add(BatchNormalization())\n",
    "model.add(MaxPooling2D(pool_size=(3, 3)))\n",
    "model.add(Dropout(0.25))\n",
    "\n",
    "model.add(Conv2D(64, (3, 3), activation='relu'))\n",
    "model.add(BatchNormalization())\n",
    "model.add(Conv2D(64, (3, 3), activation='relu'))\n",
    "model.add(BatchNormalization())\n",
    "model.add(MaxPooling2D(pool_size=(2, 2)))\n",
    "model.add(Dropout(0.25))\n",
    "\n",
    "model.add(Conv2D(128, (3, 3), activation='relu'))\n",
    "model.add(BatchNormalization())\n",
    "model.add(Conv2D(128, (3, 3), activation='relu'))\n",
    "model.add(BatchNormalization())\n",
    "model.add(MaxPooling2D(pool_size=(2, 2)))\n",
    "model.add(Dropout(0.25))\n",
    "\n",
    "model.add(Flatten())\n",
    "model.add(Dense(256, activation='relu'))\n",
    "model.add(BatchNormalization())\n",
    "model.add(Dropout(0.5))\n",
    "\n",
    "model.add(Dense(classes, activation='softmax'))"
   ]
  },
  {
   "cell_type": "code",
   "execution_count": 6,
   "metadata": {
    "ExecuteTime": {
     "end_time": "2019-04-24T15:37:45.696560Z",
     "start_time": "2019-04-24T15:37:45.620957Z"
    },
    "colab": {},
    "colab_type": "code",
    "id": "rSmlEvBW2bOy"
   },
   "outputs": [],
   "source": [
    "model.compile(optimizer='adam', loss='binary_crossentropy',\n",
    "              metrics=['accuracy'])"
   ]
  },
  {
   "cell_type": "code",
   "execution_count": 7,
   "metadata": {
    "ExecuteTime": {
     "end_time": "2019-04-24T15:37:45.702514Z",
     "start_time": "2019-04-24T15:37:45.698701Z"
    },
    "colab": {
     "base_uri": "https://localhost:8080/",
     "height": 442
    },
    "colab_type": "code",
    "id": "rtoi68-e2c1-",
    "outputId": "be2e52a5-3cf4-4f48-9531-2780103e86e5"
   },
   "outputs": [],
   "source": [
    "# model.fit(X_train, y_train, batch_size=200, epochs=12)"
   ]
  },
  {
   "cell_type": "code",
   "execution_count": 8,
   "metadata": {
    "ExecuteTime": {
     "end_time": "2019-04-24T18:47:47.344713Z",
     "start_time": "2019-04-24T18:47:40.874159Z"
    }
   },
   "outputs": [
    {
     "name": "stdout",
     "output_type": "stream",
     "text": [
      "WARNING:tensorflow:From /home/jatin/anaconda3/lib/python3.6/site-packages/tensorflow/python/ops/math_ops.py:3066: to_int32 (from tensorflow.python.ops.math_ops) is deprecated and will be removed in a future version.\n",
      "Instructions for updating:\n",
      "Use tf.cast instead.\n"
     ]
    }
   ],
   "source": [
    "model = load_model('../Models/gender_classifier_model')\n",
    "# model.save('gender_classifier_model')"
   ]
  },
  {
   "cell_type": "code",
   "execution_count": 9,
   "metadata": {
    "ExecuteTime": {
     "end_time": "2019-04-24T18:51:00.907646Z",
     "start_time": "2019-04-24T18:47:47.346999Z"
    },
    "colab": {
     "base_uri": "https://localhost:8080/",
     "height": 51
    },
    "colab_type": "code",
    "id": "FMkp_UrG25O1",
    "outputId": "6f2643cc-a47f-495c-c722-87f3456f7689"
   },
   "outputs": [
    {
     "name": "stdout",
     "output_type": "stream",
     "text": [
      "Training loss: 0.08777991641543653, acc: 0.971616476310005\n",
      "\n",
      "Testing loss: 0.09959827564503931, acc: 0.9719626168224299\n",
      "\n"
     ]
    }
   ],
   "source": [
    "loss, acc = model.evaluate(X_train, y_train, verbose=0)\n",
    "print('Training loss: {}, acc: {}\\n'.format(loss, acc))\n",
    "training_errors.append(acc)\n",
    "\n",
    "loss, acc = model.evaluate(X_test, y_test, verbose=0)\n",
    "print('Testing loss: {}, acc: {}\\n'.format(loss, acc))\n",
    "testing_errors.append(acc)"
   ]
  },
  {
   "cell_type": "markdown",
   "metadata": {},
   "source": [
    "# Reducing data dimensions for SVM, PCA and NB"
   ]
  },
  {
   "cell_type": "code",
   "execution_count": 10,
   "metadata": {
    "ExecuteTime": {
     "end_time": "2019-04-24T17:55:38.089598Z",
     "start_time": "2019-04-24T17:54:22.925294Z"
    },
    "colab": {},
    "colab_type": "code",
    "id": "zKtMAH91gxFN"
   },
   "outputs": [],
   "source": [
    "pca = PCA(100)\n",
    "X_train_reduced_100 = pca.fit_transform(X_train.reshape(X_train.shape[0], -1))\n",
    "X_test_reduced_100 = pca.transform(X_test.reshape(X_test.shape[0], -1))\n",
    "\n",
    "pca = PCA(50)\n",
    "X_train_reduced_50 = pca.fit_transform(X_train.reshape(X_train.shape[0], -1))\n",
    "X_test_reduced_50 = pca.transform(X_test.reshape(X_test.shape[0], -1))\n",
    "\n",
    "pca = PCA(20)\n",
    "X_train_reduced_20 = pca.fit_transform(X_train.reshape(X_train.shape[0], -1))\n",
    "X_test_reduced_20 = pca.transform(X_test.reshape(X_test.shape[0], -1))"
   ]
  },
  {
   "cell_type": "markdown",
   "metadata": {},
   "source": [
    "### SVM on Reduced Data"
   ]
  },
  {
   "cell_type": "code",
   "execution_count": 11,
   "metadata": {
    "ExecuteTime": {
     "end_time": "2019-04-24T18:34:06.242230Z",
     "start_time": "2019-04-24T18:34:06.237815Z"
    }
   },
   "outputs": [],
   "source": [
    "svc = SVC()\n",
    "logreg = LogisticRegressionCV(max_iter=500)\n",
    "nb = BernoulliNB()"
   ]
  },
  {
   "cell_type": "code",
   "execution_count": 12,
   "metadata": {
    "ExecuteTime": {
     "end_time": "2019-04-24T18:51:10.002025Z",
     "start_time": "2019-04-24T18:51:00.914005Z"
    },
    "colab": {
     "base_uri": "https://localhost:8080/",
     "height": 139
    },
    "colab_type": "code",
    "id": "qNrVs2lOgy_f",
    "outputId": "e226a73d-6bf8-4d16-a485-f8cd5a9e0384"
   },
   "outputs": [
    {
     "name": "stderr",
     "output_type": "stream",
     "text": [
      "/home/jatin/anaconda3/lib/python3.6/site-packages/sklearn/svm/base.py:196: FutureWarning: The default value of gamma will change from 'auto' to 'scale' in version 0.22 to account better for unscaled features. Set gamma explicitly to 'auto' or 'scale' to avoid this warning.\n",
      "  \"avoid this warning.\", FutureWarning)\n"
     ]
    }
   ],
   "source": [
    "svc.fit(X_train_reduced_100, np.argmax(y_train, axis=1))\n",
    "training_errors.append(svc.score(X_train_reduced_100, np.argmax(y_train, axis=1)))\n",
    "testing_errors.append(svc.score(X_test_reduced_100, np.argmax(y_test, axis=1)))"
   ]
  },
  {
   "cell_type": "markdown",
   "metadata": {},
   "source": [
    "### Logistic Regression on Reduced Data"
   ]
  },
  {
   "cell_type": "code",
   "execution_count": 13,
   "metadata": {
    "ExecuteTime": {
     "end_time": "2019-04-24T18:51:10.824581Z",
     "start_time": "2019-04-24T18:51:10.004416Z"
    },
    "colab": {
     "base_uri": "https://localhost:8080/",
     "height": 88
    },
    "colab_type": "code",
    "id": "e7N21y1-hCaz",
    "outputId": "afb44288-cfe1-43e1-8438-772b1ec8095b"
   },
   "outputs": [
    {
     "name": "stderr",
     "output_type": "stream",
     "text": [
      "/home/jatin/anaconda3/lib/python3.6/site-packages/sklearn/model_selection/_split.py:2053: FutureWarning: You should specify a value for 'cv' instead of relying on the default value. The default value will change from 3 to 5 in version 0.22.\n",
      "  warnings.warn(CV_WARNING, FutureWarning)\n"
     ]
    }
   ],
   "source": [
    "logreg.fit(X_train_reduced_100, np.argmax(y_train, axis=1))\n",
    "training_errors.append(logreg.score(X_train_reduced_100, np.argmax(y_train, axis=1)))\n",
    "testing_errors.append(logreg.score(X_test_reduced_100, np.argmax(y_test, axis=1)))\n"
   ]
  },
  {
   "cell_type": "markdown",
   "metadata": {},
   "source": [
    "### Naive Bayes on Reduced Data"
   ]
  },
  {
   "cell_type": "code",
   "execution_count": 14,
   "metadata": {
    "ExecuteTime": {
     "end_time": "2019-04-24T18:51:10.867471Z",
     "start_time": "2019-04-24T18:51:10.828370Z"
    },
    "colab": {
     "base_uri": "https://localhost:8080/",
     "height": 34
    },
    "colab_type": "code",
    "id": "KY4DRN8ZsDx1",
    "outputId": "11d4ec44-2144-4535-e7e9-d94dcba5e276"
   },
   "outputs": [],
   "source": [
    "nb.fit(X_train_reduced_100, np.argmax(y_train, axis=1))\n",
    "training_errors.append(nb.score(X_train_reduced_100, np.argmax(y_train, axis=1)))\n",
    "testing_errors.append(nb.score(X_test_reduced_100, np.argmax(y_test, axis=1)))\n"
   ]
  },
  {
   "cell_type": "markdown",
   "metadata": {
    "ExecuteTime": {
     "end_time": "2019-04-24T15:40:01.542873Z",
     "start_time": "2019-04-24T15:40:01.533813Z"
    }
   },
   "source": [
    "### running grid search on a smaller sampled size"
   ]
  },
  {
   "cell_type": "code",
   "execution_count": 29,
   "metadata": {
    "ExecuteTime": {
     "end_time": "2019-04-24T17:55:43.280160Z",
     "start_time": "2019-04-24T17:55:43.270418Z"
    }
   },
   "outputs": [],
   "source": [
    "_, X_grid_train, _, y_grid_train = train_test_split(\n",
    "    X_train_reduced_20, np.argmax(y_train, axis=1), test_size=0.01)"
   ]
  },
  {
   "cell_type": "code",
   "execution_count": 33,
   "metadata": {
    "ExecuteTime": {
     "end_time": "2019-04-24T17:56:26.351689Z",
     "start_time": "2019-04-24T17:56:26.346570Z"
    }
   },
   "outputs": [
    {
     "data": {
      "text/plain": [
       "(array([0, 1]), array([23, 35]))"
      ]
     },
     "execution_count": 33,
     "metadata": {},
     "output_type": "execute_result"
    }
   ],
   "source": [
    "np.unique(y_grid_train, return_counts=True)"
   ]
  },
  {
   "cell_type": "code",
   "execution_count": 34,
   "metadata": {
    "ExecuteTime": {
     "end_time": "2019-04-24T18:21:49.196106Z",
     "start_time": "2019-04-24T17:57:22.300511Z"
    },
    "colab": {},
    "colab_type": "code",
    "id": "3shYKs-ssHY6",
    "scrolled": true
   },
   "outputs": [
    {
     "name": "stdout",
     "output_type": "stream",
     "text": [
      "# Tuning hyper-parameters for accuracy\n",
      "\n"
     ]
    },
    {
     "name": "stderr",
     "output_type": "stream",
     "text": [
      "/Users/visheshhemnani/anaconda3/envs/ml_proj/lib/python3.6/site-packages/sklearn/model_selection/_search.py:841: DeprecationWarning: The default of the `iid` parameter will change from True to False in version 0.22 and will be removed in 0.24. This will change numeric results when test-set sizes are unequal.\n",
      "  DeprecationWarning)\n"
     ]
    },
    {
     "data": {
      "text/plain": [
       "GridSearchCV(cv=5, error_score='raise-deprecating',\n",
       "       estimator=SVC(C=1.0, cache_size=200, class_weight=None, coef0=0.0,\n",
       "  decision_function_shape='ovr', degree=3, gamma='auto_deprecated',\n",
       "  kernel='rbf', max_iter=-1, probability=False, random_state=None,\n",
       "  shrinking=True, tol=0.001, verbose=False),\n",
       "       fit_params=None, iid='warn', n_jobs=None,\n",
       "       param_grid=[{'kernel': ['rbf'], 'gamma': [0.001, 0.0001], 'C': [1, 10, 100, 1000]}, {'kernel': ['linear'], 'C': [1, 10, 100, 1000]}],\n",
       "       pre_dispatch='2*n_jobs', refit=True, return_train_score='warn',\n",
       "       scoring='accuracy', verbose=0)"
      ]
     },
     "execution_count": 34,
     "metadata": {},
     "output_type": "execute_result"
    },
    {
     "name": "stdout",
     "output_type": "stream",
     "text": [
      "Best parameters set found on development set:\n",
      "\n",
      "{'C': 1, 'gamma': 0.001, 'kernel': 'rbf'}\n",
      "\n",
      "Grid scores on development set:\n",
      "\n",
      "0.603 (+/-0.051) for {'C': 1, 'gamma': 0.001, 'kernel': 'rbf'}\n",
      "0.603 (+/-0.051) for {'C': 1, 'gamma': 0.0001, 'kernel': 'rbf'}\n",
      "0.603 (+/-0.051) for {'C': 10, 'gamma': 0.001, 'kernel': 'rbf'}\n",
      "0.603 (+/-0.051) for {'C': 10, 'gamma': 0.0001, 'kernel': 'rbf'}\n",
      "0.603 (+/-0.051) for {'C': 100, 'gamma': 0.001, 'kernel': 'rbf'}\n",
      "0.603 (+/-0.051) for {'C': 100, 'gamma': 0.0001, 'kernel': 'rbf'}\n",
      "0.603 (+/-0.051) for {'C': 1000, 'gamma': 0.001, 'kernel': 'rbf'}\n",
      "0.603 (+/-0.051) for {'C': 1000, 'gamma': 0.0001, 'kernel': 'rbf'}\n",
      "0.466 (+/-0.250) for {'C': 1, 'kernel': 'linear'}\n",
      "0.431 (+/-0.235) for {'C': 10, 'kernel': 'linear'}\n",
      "0.431 (+/-0.235) for {'C': 100, 'kernel': 'linear'}\n",
      "0.431 (+/-0.235) for {'C': 1000, 'kernel': 'linear'}\n",
      "\n",
      "Detailed classification report:\n",
      "\n",
      "The model is trained on the full development set.\n",
      "The scores are computed on the full evaluation set.\n",
      "\n",
      "              precision    recall  f1-score   support\n",
      "\n",
      "           0       0.00      0.00      0.00       817\n",
      "           1       0.58      1.00      0.73      1109\n",
      "\n",
      "   micro avg       0.58      0.58      0.58      1926\n",
      "   macro avg       0.29      0.50      0.37      1926\n",
      "weighted avg       0.33      0.58      0.42      1926\n",
      "\n",
      "\n"
     ]
    },
    {
     "name": "stderr",
     "output_type": "stream",
     "text": [
      "/Users/visheshhemnani/anaconda3/envs/ml_proj/lib/python3.6/site-packages/sklearn/metrics/classification.py:1143: UndefinedMetricWarning: Precision and F-score are ill-defined and being set to 0.0 in labels with no predicted samples.\n",
      "  'precision', 'predicted', average, warn_for)\n"
     ]
    }
   ],
   "source": [
    "tuned_parameters = [{'kernel': ['rbf'], 'gamma': [1e-3, 1e-4],\n",
    "                     'C': [1, 10, 100, 1000]},\n",
    "                    {'kernel': ['linear'], 'C': [1, 10, 100, 1000]}]\n",
    "\n",
    "scores = ['accuracy']\n",
    "\n",
    "for score in scores:\n",
    "    print(\"# Tuning hyper-parameters for %s\" % score)\n",
    "    print()\n",
    "\n",
    "    clf = GridSearchCV(SVC(), tuned_parameters, cv=5,\n",
    "                       scoring=score)\n",
    "    clf.fit(X_grid_train, y_grid_train)\n",
    "\n",
    "    print(\"Best parameters set found on development set:\")\n",
    "    print()\n",
    "    print(clf.best_params_)\n",
    "    print()\n",
    "    print(\"Grid scores on development set:\")\n",
    "    print()\n",
    "    means = clf.cv_results_['mean_test_score']\n",
    "    stds = clf.cv_results_['std_test_score']\n",
    "    for mean, std, params in zip(means, stds, clf.cv_results_['params']):\n",
    "        print(\"%0.3f (+/-%0.03f) for %r\"\n",
    "              % (mean, std * 2, params))\n",
    "    print()\n",
    "\n",
    "    print(\"Detailed classification report:\")\n",
    "    print()\n",
    "    print(\"The model is trained on the full development set.\")\n",
    "    print(\"The scores are computed on the full evaluation set.\")\n",
    "    print()\n",
    "    y_true, y_pred = np.argmax(y_test, axis=1), clf.predict(X_test_reduced_20)\n",
    "    print(classification_report(y_true, y_pred))\n",
    "    print()\n",
    "\n",
    "# Note the problem is too easy: the hyperparameter plateau is too flat and the\n",
    "# output model is the same for precision and recall with ties in quality."
   ]
  },
  {
   "cell_type": "code",
   "execution_count": 35,
   "metadata": {
    "ExecuteTime": {
     "end_time": "2019-04-24T18:28:41.648836Z",
     "start_time": "2019-04-24T18:28:41.643698Z"
    }
   },
   "outputs": [],
   "source": [
    "final_model = clf.best_estimator_"
   ]
  },
  {
   "cell_type": "code",
   "execution_count": 50,
   "metadata": {
    "ExecuteTime": {
     "end_time": "2019-04-24T18:32:16.357224Z",
     "start_time": "2019-04-24T18:32:11.030857Z"
    }
   },
   "outputs": [
    {
     "data": {
      "text/plain": [
       "SVC(C=1, cache_size=200, class_weight=None, coef0=0.0,\n",
       "  decision_function_shape='ovr', degree=3, gamma=0.001, kernel='rbf',\n",
       "  max_iter=-1, probability=False, random_state=None, shrinking=True,\n",
       "  tol=0.001, verbose=False)"
      ]
     },
     "execution_count": 50,
     "metadata": {},
     "output_type": "execute_result"
    }
   ],
   "source": [
    "final_model.fit(X_train_reduced_100, np.argmax(y_train, axis=1))"
   ]
  },
  {
   "cell_type": "code",
   "execution_count": 51,
   "metadata": {
    "ExecuteTime": {
     "end_time": "2019-04-24T18:33:00.815895Z",
     "start_time": "2019-04-24T18:32:59.579139Z"
    }
   },
   "outputs": [
    {
     "data": {
      "text/plain": [
       "0.5830737279335411"
      ]
     },
     "execution_count": 51,
     "metadata": {},
     "output_type": "execute_result"
    }
   ],
   "source": [
    "final_model.score(X_test_reduced_100, np.argmax(y_test, axis=1))"
   ]
  },
  {
   "cell_type": "markdown",
   "metadata": {},
   "source": [
    "# Barplot for accuracy observations"
   ]
  },
  {
   "cell_type": "code",
   "execution_count": 141,
   "metadata": {
    "ExecuteTime": {
     "end_time": "2019-04-24T19:09:55.330359Z",
     "start_time": "2019-04-24T19:09:55.315798Z"
    }
   },
   "outputs": [],
   "source": [
    "model_names = [\"NeuralNet\", \"SVM\",\"LogReg\",\"NaiveBayes\"]\n",
    "training_acc_df = pd.DataFrame(training_errors ,columns=['accuracy'])\n",
    "training_acc_df['type'] = \"Training\"\n",
    "training_acc_df['model'] = model_names\n",
    "testing_acc_df = pd.DataFrame(testing_errors,columns=['accuracy'])\n",
    "testing_acc_df['type'] = \"Testing\"\n",
    "testing_acc_df['model'] = model_names\n",
    "acc_df = pd.concat([training_acc_df, testing_acc_df])\n",
    "acc_df['accuracy'] = acc_df['accuracy']*100"
   ]
  },
  {
   "cell_type": "code",
   "execution_count": 143,
   "metadata": {
    "ExecuteTime": {
     "end_time": "2019-04-24T19:10:04.259711Z",
     "start_time": "2019-04-24T19:10:04.249839Z"
    }
   },
   "outputs": [
    {
     "data": {
      "text/html": [
       "<div>\n",
       "<style scoped>\n",
       "    .dataframe tbody tr th:only-of-type {\n",
       "        vertical-align: middle;\n",
       "    }\n",
       "\n",
       "    .dataframe tbody tr th {\n",
       "        vertical-align: top;\n",
       "    }\n",
       "\n",
       "    .dataframe thead th {\n",
       "        text-align: right;\n",
       "    }\n",
       "</style>\n",
       "<table border=\"1\" class=\"dataframe\">\n",
       "  <thead>\n",
       "    <tr style=\"text-align: right;\">\n",
       "      <th></th>\n",
       "      <th>accuracy</th>\n",
       "      <th>type</th>\n",
       "      <th>model</th>\n",
       "    </tr>\n",
       "  </thead>\n",
       "  <tbody>\n",
       "    <tr>\n",
       "      <th>0</th>\n",
       "      <td>97.248183</td>\n",
       "      <td>Training</td>\n",
       "      <td>NeuralNet</td>\n",
       "    </tr>\n",
       "    <tr>\n",
       "      <th>1</th>\n",
       "      <td>99.792316</td>\n",
       "      <td>Training</td>\n",
       "      <td>SVM</td>\n",
       "    </tr>\n",
       "    <tr>\n",
       "      <th>2</th>\n",
       "      <td>91.225337</td>\n",
       "      <td>Training</td>\n",
       "      <td>LogReg</td>\n",
       "    </tr>\n",
       "    <tr>\n",
       "      <th>3</th>\n",
       "      <td>80.910350</td>\n",
       "      <td>Training</td>\n",
       "      <td>NaiveBayes</td>\n",
       "    </tr>\n",
       "    <tr>\n",
       "      <th>0</th>\n",
       "      <td>96.936656</td>\n",
       "      <td>Testing</td>\n",
       "      <td>NeuralNet</td>\n",
       "    </tr>\n",
       "    <tr>\n",
       "      <th>1</th>\n",
       "      <td>58.307373</td>\n",
       "      <td>Testing</td>\n",
       "      <td>SVM</td>\n",
       "    </tr>\n",
       "    <tr>\n",
       "      <th>2</th>\n",
       "      <td>90.238837</td>\n",
       "      <td>Testing</td>\n",
       "      <td>LogReg</td>\n",
       "    </tr>\n",
       "    <tr>\n",
       "      <th>3</th>\n",
       "      <td>78.868120</td>\n",
       "      <td>Testing</td>\n",
       "      <td>NaiveBayes</td>\n",
       "    </tr>\n",
       "  </tbody>\n",
       "</table>\n",
       "</div>"
      ],
      "text/plain": [
       "    accuracy      type       model\n",
       "0  97.248183  Training   NeuralNet\n",
       "1  99.792316  Training         SVM\n",
       "2  91.225337  Training      LogReg\n",
       "3  80.910350  Training  NaiveBayes\n",
       "0  96.936656   Testing   NeuralNet\n",
       "1  58.307373   Testing         SVM\n",
       "2  90.238837   Testing      LogReg\n",
       "3  78.868120   Testing  NaiveBayes"
      ]
     },
     "execution_count": 143,
     "metadata": {},
     "output_type": "execute_result"
    }
   ],
   "source": [
    "acc_df"
   ]
  },
  {
   "cell_type": "code",
   "execution_count": 145,
   "metadata": {
    "ExecuteTime": {
     "end_time": "2019-04-24T19:11:02.436268Z",
     "start_time": "2019-04-24T19:11:02.228336Z"
    }
   },
   "outputs": [
    {
     "data": {
      "image/png": "[encoded data removed]",
      "text/plain": [
       "<Figure size 432x288 with 1 Axes>"
      ]
     },
     "metadata": {
      "needs_background": "light"
     },
     "output_type": "display_data"
    }
   ],
   "source": [
    "ax = sns.barplot(x = 'model',y = \"accuracy\",hue=\"type\", data=acc_df)\n"
   ]
  },
  {
   "cell_type": "code",
   "execution_count": null,
   "metadata": {},
   "outputs": [],
   "source": []
  }
 ],
 "metadata": {
  "accelerator": "GPU",
  "colab": {
   "collapsed_sections": [],
   "name": "Gender Classifier.ipynb",
   "provenance": [],
   "version": "0.3.2"
  },
  "kernelspec": {
   "display_name": "Python 3",
   "language": "python",
   "name": "python3"
  },
  "language_info": {
   "codemirror_mode": {
    "name": "ipython",
    "version": 3
   },
   "file_extension": ".py",
   "mimetype": "text/x-python",
   "name": "python",
   "nbconvert_exporter": "python",
   "pygments_lexer": "ipython3",
   "version": "3.6.8"
  },
  "toc": {
   "base_numbering": 1,
   "nav_menu": {},
   "number_sections": true,
   "sideBar": true,
   "skip_h1_title": false,
   "title_cell": "Table of Contents",
   "title_sidebar": "Contents",
   "toc_cell": false,
   "toc_position": {},
   "toc_section_display": true,
   "toc_window_display": false
  }
 },
 "nbformat": 4,
 "nbformat_minor": 1
}
