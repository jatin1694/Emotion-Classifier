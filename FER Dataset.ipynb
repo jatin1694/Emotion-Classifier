{
 "cells": [
  {
   "cell_type": "code",
   "execution_count": 57,
   "metadata": {
    "ExecuteTime": {
     "end_time": "2019-04-19T14:56:39.816240Z",
     "start_time": "2019-04-19T14:56:36.864510Z"
    },
    "scrolled": true
   },
   "outputs": [
    {
     "name": "stderr",
     "output_type": "stream",
     "text": [
      "Using TensorFlow backend.\n"
     ]
    }
   ],
   "source": [
    "from scipy.io import loadmat\n",
    "import pandas as pd\n",
    "import numpy as np\n",
    "from random import shuffle\n",
    "import os\n",
    "import cv2\n",
    "from keras.models import Sequential\n",
    "from keras.layers import Conv2D, MaxPooling2D, BatchNormalization, Dropout, Flatten, Dense\n"
   ]
  },
  {
   "cell_type": "code",
   "execution_count": 66,
   "metadata": {
    "ExecuteTime": {
     "end_time": "2019-04-19T14:59:12.133228Z",
     "start_time": "2019-04-19T14:59:08.593706Z"
    }
   },
   "outputs": [],
   "source": [
    "fer_path = '../Data/challenges-in-representation-learning-facial-expression-recognition-challenge/fer2013/fer2013.csv'\n",
    "data = pd.read_csv(fer_path)"
   ]
  },
  {
   "cell_type": "code",
   "execution_count": 67,
   "metadata": {
    "ExecuteTime": {
     "end_time": "2019-04-19T14:59:12.175930Z",
     "start_time": "2019-04-19T14:59:12.138211Z"
    }
   },
   "outputs": [
    {
     "data": {
      "text/plain": [
       "(array(['PrivateTest', 'PublicTest', 'Training'], dtype=object),\n",
       " array([ 3589,  3589, 28709]))"
      ]
     },
     "execution_count": 67,
     "metadata": {},
     "output_type": "execute_result"
    }
   ],
   "source": [
    "np.unique(data['Usage'], return_counts=True)"
   ]
  },
  {
   "cell_type": "code",
   "execution_count": 69,
   "metadata": {
    "ExecuteTime": {
     "end_time": "2019-04-19T14:59:42.716064Z",
     "start_time": "2019-04-19T14:59:25.570543Z"
    }
   },
   "outputs": [],
   "source": [
    "training_pixels = data[data['Usage'] == 'Training']['pixels'].tolist()\n",
    "width, height = 48, 48\n",
    "image_size = (width, height)\n",
    "X_train = []\n",
    "for pixel_sequence in training_pixels:\n",
    "    face = [int(pixel) for pixel in pixel_sequence.split(' ')]\n",
    "    face = np.asarray(face).reshape(width, height)\n",
    "    #     face = cv2.resize(face.astype('uint8'), image_size)\n",
    "    X_train.append(face.astype('float32'))\n",
    "    \n",
    "X_train = np.asarray(X_train)\n",
    "X_train = np.expand_dims(X_train, -1)\n",
    "y_train = pd.get_dummies(data[data['Usage'] == 'Training']['emotion']).values"
   ]
  },
  {
   "cell_type": "code",
   "execution_count": 70,
   "metadata": {
    "ExecuteTime": {
     "end_time": "2019-04-19T14:59:44.781769Z",
     "start_time": "2019-04-19T14:59:42.718280Z"
    }
   },
   "outputs": [],
   "source": [
    "training_pixels = data[data['Usage'] == 'PublicTest']['pixels'].tolist()\n",
    "width, height = 48, 48\n",
    "image_size = (width, height)\n",
    "X_test = []\n",
    "for pixel_sequence in training_pixels:\n",
    "    face = [int(pixel) for pixel in pixel_sequence.split(' ')]\n",
    "    face = np.asarray(face).reshape(width, height)\n",
    "    #     face = cv2.resize(face.astype('uint8'), image_size)\n",
    "    X_test.append(face.astype('float32'))\n",
    "X_test = np.asarray(X_train)\n",
    "\n",
    "X_test = np.expand_dims(X_test, -1)\n",
    "y_test = pd.get_dummies(data[data['Usage'] == 'PublicTest']['emotion']).values"
   ]
  },
  {
   "cell_type": "markdown",
   "metadata": {},
   "source": [
    "Faces shape type is (#records, image_width, image_height, 1)"
   ]
  },
  {
   "cell_type": "code",
   "execution_count": 74,
   "metadata": {
    "ExecuteTime": {
     "end_time": "2019-04-19T15:00:22.857730Z",
     "start_time": "2019-04-19T15:00:22.546418Z"
    }
   },
   "outputs": [],
   "source": [
    "IMG_SIZE = 48\n",
    "model = Sequential()\n",
    "model.add(Conv2D(32, kernel_size = (3, 3), activation='relu', input_shape=(IMG_SIZE, IMG_SIZE, 1)))\n",
    "model.add(MaxPooling2D(pool_size=(2,2)))\n",
    "model.add(BatchNormalization())\n",
    "model.add(Conv2D(64, kernel_size=(3,3), activation='relu'))\n",
    "model.add(MaxPooling2D(pool_size=(2,2)))\n",
    "model.add(BatchNormalization())\n",
    "model.add(Conv2D(64, kernel_size=(3,3), activation='relu'))\n",
    "model.add(MaxPooling2D(pool_size=(2,2)))\n",
    "model.add(BatchNormalization())\n",
    "# model.add(Conv2D(96, kernel_size=(3,3), activation='relu'))\n",
    "# model.add(MaxPooling2D(pool_size=(2,2)))\n",
    "# model.add(BatchNormalization())\n",
    "# model.add(Conv2D(32, kernel_size=(3,3), activation='relu'))\n",
    "# model.add(MaxPooling2D(pool_size=(2,2)))\n",
    "# model.add(BatchNormalization())\n",
    "model.add(Dropout(0.2))\n",
    "model.add(Flatten())\n",
    "model.add(Dense(128, activation='relu'))\n",
    "#model.add(Dropout(0.3))\n",
    "model.add(Dense(7, activation = 'softmax'))"
   ]
  },
  {
   "cell_type": "code",
   "execution_count": null,
   "metadata": {
    "ExecuteTime": {
     "start_time": "2019-04-19T15:00:23.175Z"
    }
   },
   "outputs": [
    {
     "name": "stdout",
     "output_type": "stream",
     "text": [
      "WARNING:tensorflow:From /Users/visheshhemnani/anaconda3/envs/ml_proj/lib/python3.6/site-packages/tensorflow/python/ops/math_ops.py:3066: to_int32 (from tensorflow.python.ops.math_ops) is deprecated and will be removed in a future version.\n",
      "Instructions for updating:\n",
      "Use tf.cast instead.\n",
      "Epoch 1/20\n",
      "28709/28709 [==============================] - 43s 1ms/step - loss: 1.6119 - acc: 0.3958\n",
      "Epoch 2/20\n",
      "12700/28709 [============>.................] - ETA: 22s - loss: 1.3040 - acc: 0.5021"
     ]
    }
   ],
   "source": [
    "model.compile(optimizer='adam', loss='categorical_crossentropy', metrics=['accuracy'])\n",
    "model.fit(X_train, y_train, batch_size=100, epochs=20, verbose=1)"
   ]
  },
  {
   "cell_type": "code",
   "execution_count": 73,
   "metadata": {
    "ExecuteTime": {
     "end_time": "2019-04-19T15:00:02.854401Z",
     "start_time": "2019-04-19T15:00:02.849803Z"
    }
   },
   "outputs": [
    {
     "data": {
      "text/plain": [
       "(28709, 7)"
      ]
     },
     "execution_count": 73,
     "metadata": {},
     "output_type": "execute_result"
    }
   ],
   "source": [
    "y_train.shape"
   ]
  },
  {
   "cell_type": "code",
   "execution_count": null,
   "metadata": {},
   "outputs": [],
   "source": []
  }
 ],
 "metadata": {
  "kernelspec": {
   "display_name": "Python 3",
   "language": "python",
   "name": "python3"
  },
  "language_info": {
   "codemirror_mode": {
    "name": "ipython",
    "version": 3
   },
   "file_extension": ".py",
   "mimetype": "text/x-python",
   "name": "python",
   "nbconvert_exporter": "python",
   "pygments_lexer": "ipython3",
   "version": "3.6.4"
  }
 },
 "nbformat": 4,
 "nbformat_minor": 2
}
