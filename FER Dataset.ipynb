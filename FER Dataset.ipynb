{
 "cells": [
  {
   "cell_type": "code",
   "execution_count": 1,
   "metadata": {
    "ExecuteTime": {
     "end_time": "2019-04-20T23:46:02.236909Z",
     "start_time": "2019-04-20T23:45:57.750381Z"
    },
    "scrolled": true
   },
   "outputs": [
    {
     "name": "stderr",
     "output_type": "stream",
     "text": [
      "Using TensorFlow backend.\n"
     ]
    }
   ],
   "source": [
    "from scipy.io import loadmat\n",
    "import pandas as pd\n",
    "import numpy as np\n",
    "from random import shuffle\n",
    "import os\n",
    "import cv2\n",
    "from keras.models import Sequential\n",
    "from keras.layers import Conv2D, MaxPooling2D, BatchNormalization, Dropout, Flatten, Dense\n"
   ]
  },
  {
   "cell_type": "code",
   "execution_count": 2,
   "metadata": {
    "ExecuteTime": {
     "end_time": "2019-04-20T23:46:05.584776Z",
     "start_time": "2019-04-20T23:46:02.770136Z"
    }
   },
   "outputs": [],
   "source": [
    "fer_path = '../Data/challenges-in-representation-learning-facial-expression-recognition-challenge/fer2013/fer2013.csv'\n",
    "data = pd.read_csv(fer_path)"
   ]
  },
  {
   "cell_type": "code",
   "execution_count": 3,
   "metadata": {
    "ExecuteTime": {
     "end_time": "2019-04-20T23:46:05.626390Z",
     "start_time": "2019-04-20T23:46:05.586988Z"
    }
   },
   "outputs": [
    {
     "data": {
      "text/plain": [
       "(array(['PrivateTest', 'PublicTest', 'Training'], dtype=object),\n",
       " array([ 3589,  3589, 28709]))"
      ]
     },
     "execution_count": 3,
     "metadata": {},
     "output_type": "execute_result"
    }
   ],
   "source": [
    "np.unique(data['Usage'], return_counts=True)"
   ]
  },
  {
   "cell_type": "code",
   "execution_count": 4,
   "metadata": {
    "ExecuteTime": {
     "end_time": "2019-04-20T23:46:22.994163Z",
     "start_time": "2019-04-20T23:46:05.629953Z"
    }
   },
   "outputs": [],
   "source": [
    "training_pixels = data[data['Usage'] == 'Training']['pixels'].tolist()\n",
    "width, height = 48, 48\n",
    "image_size = (width, height)\n",
    "X_train = []\n",
    "for pixel_sequence in training_pixels:\n",
    "    face = [int(pixel) for pixel in pixel_sequence.split(' ')]\n",
    "    face = np.asarray(face).reshape(width, height)\n",
    "    #     face = cv2.resize(face.astype('uint8'), image_size)\n",
    "    X_train.append(face.astype('float32'))\n",
    "    \n",
    "X_train = np.asarray(X_train)\n",
    "X_train = np.expand_dims(X_train, -1)\n",
    "y_train = pd.get_dummies(data[data['Usage'] == 'Training']['emotion']).values"
   ]
  },
  {
   "cell_type": "code",
   "execution_count": 5,
   "metadata": {
    "ExecuteTime": {
     "end_time": "2019-04-20T23:46:25.232109Z",
     "start_time": "2019-04-20T23:46:22.996484Z"
    }
   },
   "outputs": [],
   "source": [
    "training_pixels = data[data['Usage'] == 'PublicTest']['pixels'].tolist()\n",
    "width, height = 48, 48\n",
    "image_size = (width, height)\n",
    "X_test = []\n",
    "for pixel_sequence in training_pixels:\n",
    "    face = [int(pixel) for pixel in pixel_sequence.split(' ')]\n",
    "    face = np.asarray(face).reshape(width, height)\n",
    "    #     face = cv2.resize(face.astype('uint8'), image_size)\n",
    "    X_test.append(face.astype('float32'))\n",
    "X_test = np.asarray(X_test)\n",
    "\n",
    "X_test = np.expand_dims(X_test, -1)\n",
    "y_test = pd.get_dummies(data[data['Usage'] == 'PublicTest']['emotion']).values"
   ]
  },
  {
   "cell_type": "markdown",
   "metadata": {},
   "source": [
    "Faces shape type is (#records, image_width, image_height, 1)"
   ]
  },
  {
   "cell_type": "code",
   "execution_count": 8,
   "metadata": {
    "ExecuteTime": {
     "end_time": "2019-04-20T23:50:25.699154Z",
     "start_time": "2019-04-20T23:50:25.431132Z"
    }
   },
   "outputs": [],
   "source": [
    "IMG_SIZE = 48\n",
    "model = Sequential()\n",
    "model.add(Conv2D(64, kernel_size = (3, 3), activation='relu', input_shape=(IMG_SIZE, IMG_SIZE, 1)))\n",
    "model.add(Conv2D(64, kernel_size=(3,3), activation='relu'))\n",
    "model.add(MaxPooling2D(pool_size=(2,2)))\n",
    "model.add(BatchNormalization())\n",
    "# model.add(MaxPooling2D(pool_size=(2,2)))\n",
    "# model.add(BatchNormalization())\n",
    "model.add(Conv2D(64, kernel_size=(3,3), activation='relu'))\n",
    "model.add(Conv2D(64, kernel_size=(3,3), activation='relu'))\n",
    "model.add(MaxPooling2D(pool_size=(2,2)))\n",
    "model.add(BatchNormalization())\n",
    "# model.add(Conv2D(96, kernel_size=(3,3), activation='relu'))\n",
    "# model.add(MaxPooling2D(pool_size=(2,2)))\n",
    "# model.add(BatchNormalization())\n",
    "# model.add(Conv2D(32, kernel_size=(3,3), activation='relu'))\n",
    "# model.add(MaxPooling2D(pool_size=(2,2)))\n",
    "# model.add(BatchNormalization())\n",
    "model.add(Dropout(0.2))\n",
    "model.add(Flatten())\n",
    "model.add(Dense(128, activation='relu'))\n",
    "#model.add(Dropout(0.3))\n",
    "model.add(Dense(7, activation = 'softmax'))"
   ]
  },
  {
   "cell_type": "code",
   "execution_count": 9,
   "metadata": {
    "ExecuteTime": {
     "end_time": "2019-04-21T01:27:54.975095Z",
     "start_time": "2019-04-20T23:50:25.966113Z"
    }
   },
   "outputs": [
    {
     "name": "stdout",
     "output_type": "stream",
     "text": [
      "Epoch 1/20\n",
      "28709/28709 [==============================] - 212s 7ms/step - loss: 1.7064 - acc: 0.3743\n",
      "Epoch 2/20\n",
      "28709/28709 [==============================] - 212s 7ms/step - loss: 1.2928 - acc: 0.5055\n",
      "Epoch 3/20\n",
      "28709/28709 [==============================] - 227s 8ms/step - loss: 1.1015 - acc: 0.5872\n",
      "Epoch 4/20\n",
      "28709/28709 [==============================] - 245s 9ms/step - loss: 0.9366 - acc: 0.6541\n",
      "Epoch 5/20\n",
      "28709/28709 [==============================] - 236s 8ms/step - loss: 0.7965 - acc: 0.7090\n",
      "Epoch 6/20\n",
      "28709/28709 [==============================] - 228s 8ms/step - loss: 0.6566 - acc: 0.7610\n",
      "Epoch 7/20\n",
      "28709/28709 [==============================] - 233s 8ms/step - loss: 0.5198 - acc: 0.8140\n",
      "Epoch 8/20\n",
      "28709/28709 [==============================] - 243s 8ms/step - loss: 0.4371 - acc: 0.8433\n",
      "Epoch 9/20\n",
      "28709/28709 [==============================] - 258s 9ms/step - loss: 0.3620 - acc: 0.8739\n",
      "Epoch 10/20\n",
      "28709/28709 [==============================] - 251s 9ms/step - loss: 0.3058 - acc: 0.8922\n",
      "Epoch 11/20\n",
      "28709/28709 [==============================] - 261s 9ms/step - loss: 0.2712 - acc: 0.9063\n",
      "Epoch 12/20\n",
      "28709/28709 [==============================] - 261s 9ms/step - loss: 0.2419 - acc: 0.9151\n",
      "Epoch 13/20\n",
      "28709/28709 [==============================] - 256s 9ms/step - loss: 0.2238 - acc: 0.9241\n",
      "Epoch 14/20\n",
      "28709/28709 [==============================] - 253s 9ms/step - loss: 0.2190 - acc: 0.9230\n",
      "Epoch 15/20\n",
      "28709/28709 [==============================] - 249s 9ms/step - loss: 0.1873 - acc: 0.9373\n",
      "Epoch 16/20\n",
      "28709/28709 [==============================] - 1059s 37ms/step - loss: 0.1577 - acc: 0.9461\n",
      "Epoch 17/20\n",
      "28709/28709 [==============================] - 306s 11ms/step - loss: 0.1480 - acc: 0.9489\n",
      "Epoch 18/20\n",
      "28709/28709 [==============================] - 295s 10ms/step - loss: 0.1404 - acc: 0.9532\n",
      "Epoch 19/20\n",
      "28709/28709 [==============================] - 293s 10ms/step - loss: 0.1549 - acc: 0.9480\n",
      "Epoch 20/20\n",
      "28709/28709 [==============================] - 271s 9ms/step - loss: 0.1369 - acc: 0.9557\n"
     ]
    },
    {
     "data": {
      "text/plain": [
       "<keras.callbacks.History at 0x13d872518>"
      ]
     },
     "execution_count": 9,
     "metadata": {},
     "output_type": "execute_result"
    }
   ],
   "source": [
    "model.compile(optimizer='adam', loss='categorical_crossentropy', metrics=['accuracy'])\n",
    "model.fit(X_train, y_train, batch_size=len(X_train)//20, epochs=20, verbose=1)"
   ]
  },
  {
   "cell_type": "code",
   "execution_count": 10,
   "metadata": {
    "ExecuteTime": {
     "end_time": "2019-04-21T15:09:46.006791Z",
     "start_time": "2019-04-21T15:09:44.959190Z"
    }
   },
   "outputs": [],
   "source": [
    "model.save('keras_on_fer')"
   ]
  },
  {
   "cell_type": "code",
   "execution_count": 11,
   "metadata": {
    "ExecuteTime": {
     "end_time": "2019-04-21T15:09:59.079896Z",
     "start_time": "2019-04-21T15:09:47.488231Z"
    }
   },
   "outputs": [
    {
     "name": "stdout",
     "output_type": "stream",
     "text": [
      "Testing loss: 2.360457666340762, acc: 0.5731401504680419\n",
      "\n"
     ]
    }
   ],
   "source": [
    "loss, acc = model.evaluate(X_test, y_test, verbose=0)\n",
    "print('Testing loss: {}, acc: {}\\n'.format(loss, acc))"
   ]
  },
  {
   "cell_type": "code",
   "execution_count": null,
   "metadata": {},
   "outputs": [],
   "source": []
  }
 ],
 "metadata": {
  "kernelspec": {
   "display_name": "Python 3",
   "language": "python",
   "name": "python3"
  },
  "language_info": {
   "codemirror_mode": {
    "name": "ipython",
    "version": 3
   },
   "file_extension": ".py",
   "mimetype": "text/x-python",
   "name": "python",
   "nbconvert_exporter": "python",
   "pygments_lexer": "ipython3",
   "version": "3.6.4"
  }
 },
 "nbformat": 4,
 "nbformat_minor": 2
}
