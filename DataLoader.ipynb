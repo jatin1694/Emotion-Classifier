{
 "cells": [
  {
   "cell_type": "code",
   "execution_count": 108,
   "metadata": {
    "ExecuteTime": {
     "end_time": "2019-04-14T03:07:59.332203Z",
     "start_time": "2019-04-14T03:07:56.596646Z"
    }
   },
   "outputs": [
    {
     "name": "stderr",
     "output_type": "stream",
     "text": [
      "Using TensorFlow backend.\n"
     ]
    }
   ],
   "source": [
    "import numpy as np\n",
    "import cv2\n",
    "import matplotlib.pyplot as plt\n",
    "import os\n",
    "from sklearn.preprocessing import OneHotEncoder\n",
    "\n",
    "from keras.models import Sequential\n",
    "from keras.layers import Conv2D, MaxPooling2D, BatchNormalization, Dropout, Flatten, Dense\n",
    "\n",
    "import pylab as pl\n",
    "import pandas as pd\n",
    "%matplotlib inline\n",
    "import seaborn as sns\n",
    "from sklearn.utils import shuffle\n",
    "from sklearn.svm import SVC\n",
    "from sklearn.metrics import confusion_matrix,classification_report\n",
    "from sklearn.model_selection import cross_val_score, GridSearchCV\n",
    "\n",
    "os.environ['KMP_DUPLICATE_LIB_OK']='True'\n"
   ]
  },
  {
   "cell_type": "code",
   "execution_count": 88,
   "metadata": {
    "ExecuteTime": {
     "end_time": "2019-04-09T22:51:42.038424Z",
     "start_time": "2019-04-09T22:51:42.025886Z"
    }
   },
   "outputs": [],
   "source": [
    "def list_files(startpath, return_neutral = False):\n",
    "\n",
    "    all_files = []\n",
    "    neutral_files = []\n",
    "    for root, dirs, files in os.walk(startpath):\n",
    "        files = sorted(files)\n",
    "        if files and files[-1][-4] == '.' and files[0][-4] == '.':\n",
    "            all_files.append(root + '/' + files[-1])\n",
    "            neutral_files.append(root + '/' + files[0])\n",
    "\n",
    "    if return_neutral:\n",
    "        return sorted(all_files), sorted(neutral_files)\n",
    "    else:\n",
    "        return sorted(all_files)"
   ]
  },
  {
   "cell_type": "code",
   "execution_count": 89,
   "metadata": {
    "ExecuteTime": {
     "end_time": "2019-04-09T22:51:42.064542Z",
     "start_time": "2019-04-09T22:51:42.041169Z"
    }
   },
   "outputs": [],
   "source": [
    "def find_matching(X, y):\n",
    "    final_X = []\n",
    "    final_y = []\n",
    "    i, j = 0, 0\n",
    "    while i < len(X):\n",
    "        X_split = X[i].split('/')\n",
    "        y_split = y[j].split('/')\n",
    "        if X_split[3] == y_split[3] and X_split[4] == y_split[4]:\n",
    "            final_X.append(X[i])\n",
    "            final_y.append(y[j])\n",
    "            j+=1\n",
    "        i+=1\n",
    "    return final_X, final_y"
   ]
  },
  {
   "cell_type": "code",
   "execution_count": 90,
   "metadata": {
    "ExecuteTime": {
     "end_time": "2019-04-09T22:51:42.077601Z",
     "start_time": "2019-04-09T22:51:42.069861Z"
    }
   },
   "outputs": [],
   "source": [
    "def read_Y(y):\n",
    "    res_y = []\n",
    "    for file in y:\n",
    "        with open(file) as f:\n",
    "            for line in f.readlines():\n",
    "                res_y.append(float(line))\n",
    "    return np.array(res_y)\n",
    "    "
   ]
  },
  {
   "cell_type": "code",
   "execution_count": 91,
   "metadata": {
    "ExecuteTime": {
     "end_time": "2019-04-09T22:51:42.088314Z",
     "start_time": "2019-04-09T22:51:42.081343Z"
    }
   },
   "outputs": [],
   "source": [
    "def read_X(X):\n",
    "    res_X = []\n",
    "    try:\n",
    "        for file in X:\n",
    "            img = cv2.imread(file,1) # reads image as color\n",
    "            img, bboxes = face_reduction(img)\n",
    "            res_X.extend(img)\n",
    "    except Exception as e:\n",
    "        print(\"Exception in X\")\n",
    "        print(X)\n",
    "        print(e)\n",
    "    return np.array(res_X)"
   ]
  },
  {
   "cell_type": "code",
   "execution_count": 92,
   "metadata": {
    "ExecuteTime": {
     "end_time": "2019-04-09T22:51:42.102404Z",
     "start_time": "2019-04-09T22:51:42.090836Z"
    }
   },
   "outputs": [],
   "source": [
    "def detectFaceOpenCVDnn(net, frame):\n",
    "    result = []\n",
    "    frameOpencvDnn = frame.copy()\n",
    "    frameHeight = frameOpencvDnn.shape[0]\n",
    "    frameWidth = frameOpencvDnn.shape[1]\n",
    "    blob = cv2.dnn.blobFromImage(frameOpencvDnn, 1.0, (300, 300), [104, 117, 123], False, False)\n",
    "    net.setInput(blob)\n",
    "    detections = net.forward()\n",
    "    bboxes = []\n",
    "    conf_threshold = 0.7\n",
    "    for i in range(detections.shape[2]):\n",
    "        confidence = detections[0, 0, i, 2]\n",
    "        if confidence > conf_threshold:\n",
    "            x1 = int(detections[0, 0, i, 3] * frameWidth)\n",
    "            y1 = int(detections[0, 0, i, 4] * frameHeight)\n",
    "            x2 = int(detections[0, 0, i, 5] * frameWidth)\n",
    "            y2 = int(detections[0, 0, i, 6] * frameHeight)\n",
    "            bboxes.append([x1, y1, x2, y2])\n",
    "            if x1 > frameWidth or x1 < 0 or x2 > frameWidth or x2 < 0 or y1 < 0 or y1 > frameHeight or y2 < 0 or y2 > frameHeight:\n",
    "                continue\n",
    "            else:\n",
    "                grayOpenDnn = gray = cv2.cvtColor(frameOpencvDnn, cv2.COLOR_BGR2GRAY)\n",
    "                croppedOpenDnn = cv2.resize(gray[y1:y2,x1:x2], (200,200)) \n",
    "                result.append(croppedOpenDnn)\n",
    "#                 cv2.rectangle(frameOpencvDnn, (x1, y1), (x2, y2), (0, 255, 0), int(round(frameHeight/150)), 8)\n",
    "    return result, bboxes"
   ]
  },
  {
   "cell_type": "code",
   "execution_count": 93,
   "metadata": {
    "ExecuteTime": {
     "end_time": "2019-04-09T22:51:42.111657Z",
     "start_time": "2019-04-09T22:51:42.105711Z"
    }
   },
   "outputs": [],
   "source": [
    "def face_reduction(image):\n",
    "    # OpenCV DNN supports 2 networks.\n",
    "    # 1. FP16 version of the original caffe implementation ( 5.4 MB )\n",
    "    # 2. 8 bit Quantized version using Tensorflow h( 2.7 MB )\n",
    "#     print(\"printing image\")\n",
    "#     print(image)\n",
    "    DNN = \"TF\"\n",
    "    if DNN == \"CAFFE\":\n",
    "        modelFile = \"models/res10_300x300_ssd_iter_140000_fp16.caffemodel\"\n",
    "        configFile = \"models/deploy.prototxt\"\n",
    "        net = cv2.dnn.readNetFromCaffe(configFile, modelFile)\n",
    "    else:\n",
    "        modelFile = \"models/opencv_face_detector_uint8.pb\"\n",
    "        configFile = \"models/opencv_face_detector.pbtxt\"\n",
    "        net = cv2.dnn.readNetFromTensorflow(modelFile, configFile)\n",
    "\n",
    "    conf_threshold = 0.7\n",
    "    outOpencvDnn, bboxes = detectFaceOpenCVDnn(net,image)\n",
    "    return outOpencvDnn, bboxes"
   ]
  },
  {
   "cell_type": "code",
   "execution_count": 94,
   "metadata": {
    "ExecuteTime": {
     "end_time": "2019-04-09T22:53:33.010589Z",
     "start_time": "2019-04-09T22:51:42.115922Z"
    }
   },
   "outputs": [
    {
     "name": "stdout",
     "output_type": "stream",
     "text": [
      "(906, 200, 200)\n",
      "(906, 200, 200, 1)\n",
      "the total number of unique training points are: \n"
     ]
    },
    {
     "data": {
      "text/plain": [
       "(array([0., 1., 2., 3., 4., 5., 6., 7.]),\n",
       " array([583,  44,  17,  59,  24,  69,  27,  83]))"
      ]
     },
     "execution_count": 8,
     "metadata": {},
     "output_type": "execute_result"
    },
    {
     "name": "stdout",
     "output_type": "stream",
     "text": [
      "{0: 'neutral', 1: 'anger', 2: 'contempt', 3: 'disgust', 4: 'fear', 5: 'happy', 6: 'sadness', 7: 'surprise'}\n"
     ]
    }
   ],
   "source": [
    "y_translation = {0:\"neutral\", 1:\"anger\", 2:\"contempt\", 3:\"disgust\", 4:\"fear\", 5:\"happy\", 6:\"sadness\", 7:\"surprise\"}\n",
    "X, X_neutral = list_files('../Data/cohn-kanade-images/', return_neutral= True)\n",
    "y = list_files('../Data/Emotion/')\n",
    "X, y = find_matching(X, y)\n",
    "y = read_Y(y)\n",
    "X = read_X(X)\n",
    "X_neutral = read_X(X_neutral)\n",
    "\n",
    "X_train= np.vstack((X, X_neutral))\n",
    "print(X_train.shape)\n",
    "X_train = X_train.reshape((X_train.shape[0],X_train.shape[1],X_train.shape[2],1))\n",
    "print(X_train.shape)\n",
    "total_y = np.hstack((y, np.zeros(X_neutral.shape[0]))).reshape(-1,1)\n",
    "\n",
    "print(total_y.shape)\n",
    "\n",
    "oht = OneHotEncoder(categories='auto', sparse=False)\n",
    "y_train = oht.fit_transform(total_y)\n",
    "print(\"the total number of unique training points are: \")\n",
    "np.unique(total_y, return_counts=True)\n",
    "print(y_translation)"
   ]
  },
  {
   "cell_type": "markdown",
   "metadata": {},
   "source": [
    "## KERAS NEURAL NET"
   ]
  },
  {
   "cell_type": "code",
   "execution_count": 11,
   "metadata": {
    "ExecuteTime": {
     "end_time": "2019-04-09T22:53:33.750423Z",
     "start_time": "2019-04-09T22:53:33.012550Z"
    }
   },
   "outputs": [
    {
     "name": "stdout",
     "output_type": "stream",
     "text": [
      "WARNING:tensorflow:From /Users/visheshhemnani/anaconda3/lib/python3.6/site-packages/tensorflow/python/framework/op_def_library.py:263: colocate_with (from tensorflow.python.framework.ops) is deprecated and will be removed in a future version.\n",
      "Instructions for updating:\n",
      "Colocations handled automatically by placer.\n",
      "WARNING:tensorflow:From /Users/visheshhemnani/anaconda3/lib/python3.6/site-packages/keras/backend/tensorflow_backend.py:3445: calling dropout (from tensorflow.python.ops.nn_ops) with keep_prob is deprecated and will be removed in a future version.\n",
      "Instructions for updating:\n",
      "Please use `rate` instead of `keep_prob`. Rate should be set to `rate = 1 - keep_prob`.\n"
     ]
    }
   ],
   "source": [
    "IMG_SIZE = 200\n",
    "model = Sequential()\n",
    "model.add(Conv2D(32, kernel_size = (3, 3), activation='relu', input_shape=(IMG_SIZE, IMG_SIZE, 1)))\n",
    "model.add(MaxPooling2D(pool_size=(2,2)))\n",
    "model.add(BatchNormalization())\n",
    "model.add(Conv2D(64, kernel_size=(3,3), activation='relu'))\n",
    "model.add(MaxPooling2D(pool_size=(2,2)))\n",
    "model.add(BatchNormalization())\n",
    "model.add(Conv2D(64, kernel_size=(3,3), activation='relu'))\n",
    "model.add(MaxPooling2D(pool_size=(2,2)))\n",
    "model.add(BatchNormalization())\n",
    "# model.add(Conv2D(96, kernel_size=(3,3), activation='relu'))\n",
    "# model.add(MaxPooling2D(pool_size=(2,2)))\n",
    "# model.add(BatchNormalization())\n",
    "# model.add(Conv2D(32, kernel_size=(3,3), activation='relu'))\n",
    "# model.add(MaxPooling2D(pool_size=(2,2)))\n",
    "# model.add(BatchNormalization())\n",
    "model.add(Dropout(0.2))\n",
    "model.add(Flatten())\n",
    "model.add(Dense(128, activation='relu'))\n",
    "#model.add(Dropout(0.3))\n",
    "model.add(Dense(8, activation = 'softmax'))"
   ]
  },
  {
   "cell_type": "code",
   "execution_count": 12,
   "metadata": {
    "ExecuteTime": {
     "end_time": "2019-04-09T22:53:33.798765Z",
     "start_time": "2019-04-09T22:53:33.752379Z"
    }
   },
   "outputs": [],
   "source": [
    "model.compile(optimizer='adam', loss='categorical_crossentropy', metrics=['accuracy'])"
   ]
  },
  {
   "cell_type": "code",
   "execution_count": 11,
   "metadata": {
    "ExecuteTime": {
     "end_time": "2019-04-09T23:02:34.242075Z",
     "start_time": "2019-04-09T22:53:33.800982Z"
    }
   },
   "outputs": [
    {
     "name": "stdout",
     "output_type": "stream",
     "text": [
      "WARNING:tensorflow:From /Users/visheshhemnani/anaconda3/lib/python3.6/site-packages/tensorflow/python/ops/math_ops.py:3066: to_int32 (from tensorflow.python.ops.math_ops) is deprecated and will be removed in a future version.\n",
      "Instructions for updating:\n",
      "Use tf.cast instead.\n",
      "Epoch 1/20\n",
      "906/906 [==============================] - 42s - loss: 4.4602 - acc: 0.6876    \n",
      "Epoch 2/20\n",
      "906/906 [==============================] - 39s - loss: 4.5872 - acc: 0.7130    \n",
      "Epoch 3/20\n",
      "906/906 [==============================] - 39s - loss: 4.4924 - acc: 0.7196    \n",
      "Epoch 4/20\n",
      "906/906 [==============================] - 40s - loss: 4.5030 - acc: 0.7196    \n",
      "Epoch 5/20\n",
      "906/906 [==============================] - 39s - loss: 4.4120 - acc: 0.7263    \n",
      "Epoch 6/20\n",
      "906/906 [==============================] - 44s - loss: 4.3942 - acc: 0.7274    \n",
      "Epoch 7/20\n",
      "906/906 [==============================] - 41s - loss: 4.3942 - acc: 0.7274    \n",
      "Epoch 8/20\n",
      "906/906 [==============================] - 39s - loss: 4.3944 - acc: 0.7274    \n",
      "Epoch 9/20\n",
      "906/906 [==============================] - 39s - loss: 4.6648 - acc: 0.7097    \n",
      "Epoch 10/20\n",
      "906/906 [==============================] - 40s - loss: 4.4489 - acc: 0.7230    \n",
      "Epoch 11/20\n",
      "906/906 [==============================] - 39s - loss: 4.5608 - acc: 0.7163    \n",
      "Epoch 12/20\n",
      "906/906 [==============================] - 40s - loss: 4.4161 - acc: 0.7252    \n",
      "Epoch 13/20\n",
      "906/906 [==============================] - 40s - loss: 4.4252 - acc: 0.7252    \n",
      "Epoch 14/20\n",
      "906/906 [==============================] - 40s - loss: 4.4655 - acc: 0.7230    \n",
      "Epoch 15/20\n",
      "906/906 [==============================] - 40s - loss: 4.5221 - acc: 0.7174    \n",
      "Epoch 16/20\n",
      "906/906 [==============================] - 41s - loss: 4.4886 - acc: 0.7174    \n",
      "Epoch 17/20\n",
      "906/906 [==============================] - 39s - loss: 4.6061 - acc: 0.7119    \n",
      "Epoch 18/20\n",
      "906/906 [==============================] - 41s - loss: 4.5087 - acc: 0.7185    \n",
      "Epoch 19/20\n",
      "906/906 [==============================] - 41s - loss: 4.4314 - acc: 0.7230    \n",
      "Epoch 20/20\n",
      "906/906 [==============================] - 41s - loss: 4.3053 - acc: 0.7329    \n"
     ]
    },
    {
     "data": {
      "text/plain": [
       "<keras.callbacks.History at 0x7f72242934a8>"
      ]
     },
     "execution_count": 11,
     "metadata": {},
     "output_type": "execute_result"
    }
   ],
   "source": [
    "model.fit(X_train, y_train, batch_size=50, epochs=20, verbose=1)"
   ]
  },
  {
   "cell_type": "code",
   "execution_count": 12,
   "metadata": {
    "ExecuteTime": {
     "end_time": "2019-04-09T23:02:34.252858Z",
     "start_time": "2019-04-09T23:02:34.244160Z"
    }
   },
   "execution_count": 13,
   "metadata": {},
   "outputs": [],
   "source": [
    "def display_emotions(videoFaces, frame, bboxes):\n",
    "    outputFrame = frame.copy()\n",
    "    predictions = model.predict(videoFaces)\n",
    "    for i in range(len(bboxes)):\n",
    "        emotion = y_translation[np.argmax(predictions[i])]\n",
    "        font = cv2.FONT_HERSHEY_SIMPLEX\n",
    "        cv2.putText(outputFrame, emotion, (bboxes[i][0] -1 ,bboxes[i][1] - 1), font, 1, (0,255,0), 2, cv2.LINE_AA)\n",
    "        cv2.rectangle(outputFrame, (bboxes[i][0], bboxes[i][1]), (bboxes[i][2], bboxes[i][3]), (0, 255, 0), int(round(outputFrame.shape[0]/150)), 8)\n",
    "    return outputFrame"
   ]
  },
  {
   "cell_type": "code",
   "execution_count": 14,
   "metadata": {},
   "outputs": [],
   "source": [
    "def get_webcam_feed():\n",
    "    cap = cv2.VideoCapture(0)\n",
    "    hasFrame, frame = cap.read()\n",
    "    #TODO : Handle cases for multiple people\n",
    "    frame_count = 0\n",
    "    tt_opencvDnn = 0\n",
    "    while(1):\n",
    "        try:\n",
    "            hasFrame, frame = cap.read()\n",
    "            if not hasFrame:\n",
    "                break\n",
    "            frame_count += 1\n",
    "            outputFrame = frame\n",
    "            #Gives a list of gray-scale images in webcam feed\n",
    "            videoFaces, bboxes = face_reduction(frame)\n",
    "            videoFaces = np.array(videoFaces)\n",
    "            if videoFaces.shape[0] != 0:\n",
    "#                 print(videoFaces.shape)\n",
    "                videoFaces = videoFaces.reshape((videoFaces.shape[0],videoFaces.shape[1],videoFaces.shape[2],1))\n",
    "                outputFrame = display_emotions(videoFaces, frame, bboxes)\n",
    "            cv2.imshow(\"frame\", outputFrame)\n",
    "            k = cv2.waitKey(10)\n",
    "            if k == 27:\n",
    "                break\n",
    "        except Exception as e:\n",
    "            print(\"Exception is \")\n",
    "            print(e)\n",
    "            break\n",
    "    cv2.destroyAllWindows()"
   ]
  },
  {
   "cell_type": "code",
   "execution_count": 15,
   "metadata": {},
   "outputs": [],
   "source": [
    "get_webcam_feed()"
   ]
  },
  {
   "cell_type": "markdown",
   "metadata": {},
   "source": [
    "# MultiClass SVM"
   ]
  },
  {
   "cell_type": "code",
   "execution_count": 98,
   "metadata": {},
   "outputs": [
    {
     "name": "stdout",
     "output_type": "stream",
     "text": [
      "(906, 40000)\n",
      "906\n",
      "(906, 1)\n"
     ]
    }
   ],
   "source": [
    "# Starting SVM \n",
    "from sklearn.svm import SVC\n",
    "# data preprocessing\n",
    "\n",
    "X_train_new = np.reshape(X_train, (X_train.shape[0], (X_train.shape[1]*X_train.shape[2]*X_train.shape[3])))\n",
    "print(X_train_new.shape)\n",
    "y_train_new = []\n",
    "print(len(y_train))\n",
    "for i in range(len(y_train)):\n",
    "    index = np.nonzero(y_train[i])[0]\n",
    "    y_train_new.append(index)\n",
    "y_train_new = np.array(y_train_new)\n",
    "print(y_train_new.shape)"
   ]
  },
  {
   "cell_type": "code",
   "execution_count": 101,
   "metadata": {},
   "outputs": [
    {
     "name": "stdout",
     "output_type": "stream",
     "text": [
      "44\n",
      "17\n",
      "59\n",
      "24\n",
      "69\n",
      "27\n",
      "83\n",
      "583\n",
      "(906, 40000)\n",
      "[38.93156733 38.44812362 38.03311258 37.54415011 37.02207506 36.64790287\n",
      " 36.31898455 35.84547461 35.51766004 35.28476821]\n",
      "(906, 40000)\n"
     ]
    },
    {
     "data": {
      "image/png": "[encoded data removed]",
      "text/plain": [
       "<Figure size 288x288 with 1 Axes>"
      ]
     },
     "metadata": {},
     "output_type": "display_data"
    }
   ],
   "source": [
    "print(np.count_nonzero(y_train_new == 1))\n",
    "print(np.count_nonzero(y_train_new == 2))\n",
    "print(np.count_nonzero(y_train_new == 3))\n",
    "print(np.count_nonzero(y_train_new == 4))\n",
    "print(np.count_nonzero(y_train_new == 5))\n",
    "print(np.count_nonzero(y_train_new == 6))\n",
    "print(np.count_nonzero(y_train_new == 7))\n",
    "print(np.count_nonzero((y_train_new == 0)))\n",
    "\n",
    "print(X_train_new.shape)\n",
    "\n",
    "mean_image = np.mean(X_train_new, axis=0)\n",
    "print(mean_image[:10])\n",
    "\n",
    "print(X_train_new.shape)\n",
    "\n",
    "plt.figure(figsize=(4,4))\n",
    "plt.imshow(mean_image.reshape((200,200)))\n",
    "plt.show()"
   ]
  },
  {
   "cell_type": "code",
   "execution_count": null,
   "metadata": {},
   "outputs": [],
   "source": [
    "X_train_new = np.array(X_train_new, dtype = mean_image.dtype)\n",
    "X_train_new -= mean_image"
   ]
  },
  {
   "cell_type": "code",
   "execution_count": 105,
   "metadata": {},
   "outputs": [
    {
     "name": "stdout",
     "output_type": "stream",
     "text": [
      "[3 7 1 5 7 6 4 1 3 5 7 6 1 5 7 1 3 7 6 1 5 1 1 7 1 4 3 5 7 1 5 7 3 5 7 1 5\n",
      " 7 6 1 5 7 5 3 3 1 6 7 4 3 4 7 1 5 7 3 7 5 3 7 5 4 7 3 7 3 1 5 4 3 7 5 7 3\n",
      " 5 7 1 3 7 4 5 7 3 7 5 3 4 7 5 3 7 5 7 5 6 4 7 5 3 7 5 6 1 7 1 5 3 5 7 4 3\n",
      " 7 3 5 7 5 3 7 6 1 5 3 1 5 7 3 4 7 3 5 7 3 5 1 7 3 5 7 3 7 5 3 7 3 5 7 6 3\n",
      " 7 6 3 7 1 3 5 7 4 5 7 3 7 5 7 3 5 1 7 3 7 5 1 7 3 1 4 5 7 1 5 6 5 7 5 7 3\n",
      " 5 6 7 3 5 7 3 5 3 5 7 5 3 7 1 5 7 7 4 3 3 6 3 5 7 3 6 3 5 1 3 5 7 7 1 3 1\n",
      " 7 6 1 7 5 7 6 5 7 3 5 7 4 1 7 4 1 7 7 4 3 5 6 5 4 7 3 7 1 7 5 1 3 5 7 1 3\n",
      " 5 7 1 6 3 5 7 6 5 3 6 4 3 5 7 1 7 5 1 5 3 7 5 7 6 1 5 7 6 5 4 7 5 6 2 2 2\n",
      " 2 2 2 2 2 2 2 2 2 1 4 6 1 2 4 1 2 6 1 2 4 6 2 6 1 2 4 0 0 0 0 0 0 0 0 0 0\n",
      " 0 0 0 0 0 0 0 0 0 0 0 0 0 0 0 0 0 0 0 0 0 0 0 0 0 0 0 0 0 0 0 0 0 0 0 0 0\n",
      " 0 0 0 0 0 0 0 0 0 0 0 0 0 0 0 0 0 0 0 0 0 0 0 0 0 0 0 0 0 0 0 0 0 0 0 0 0\n",
      " 0 0 0 0 0 0 0 0 0 0 0 0 0 0 0 0 0 0 0 0 0 0 0 0 0 0 0 0 0 0 0 0 0 0 0 0 0\n",
      " 0 0 0 0 0 0 0 0 0 0 0 0 0 0 0 0 0 0 0 0 0 0 0 0 0 0 0 0 0 0 0 0 0 0 0 0 0\n",
      " 0 0 0 0 0 0 0 0 0 0 0 0 0 0 0 0 0 0 0 0 0 0 0 0 0 0 0 0 0 0 0 0 0 0 0 0 0\n",
      " 0 0 0 0 0 0 0 0 0 0 0 0 0 0 0 0 0 0 0 0 0 0 0 0 0 0 0 0 0 0 0 0 0 0 0 0 0\n",
      " 0 0 0 0 0 0 0 0 0 0 0 0 0 0 0 0 0 0 0 0 0 0 0 0 0 0 0 0 0 0 0 0 0 0 0 0 0\n",
      " 0 0 0 0 0 0 0 0 0 0 0 0 0 0 0 0 0 0 0 0 0 0 0 0 0 0 0 0 0 0 0 0 0 0 0 0 0\n",
      " 0 0 0 0 0 0 0 0 0 0 0 0 0 0 0 0 0 0 0 0 0 0 0 0 0 0 0 0 0 0 0 0 0 0 0 0 0\n",
      " 0 0 0 0 0 0 0 0 0 0 0 0 0 0 0 0 0 0 0 0 0 0 0 0 0 0 0 0 0 0 0 0 0 0 0 0 0\n",
      " 0 0 0 0 0 0 0 0 0 0 0 0 0 0 0 0 0 0 0 0 0 0 0 0 0 0 0 0 0 0 0 0 0 0 0 0 0\n",
      " 0 0 0 0 0 0 0 0 0 0 0 0 0 0 0 0 0 0 0 0 0 0 0 0 0 0 0 0 0 0 0 0 0 0 0 0 0\n",
      " 0 0 0 0 0 0 0 0 0 0 0 0 0 0 0 0 0 0 0 0 0 0 0 0 0 0 0 0 0 0 0 0 0 0 0 0 0\n",
      " 0 0 0 0 0 0 0 0 0 0 0 0 0 0 0 0 0 0 0 0 0 0 0 0 0 0 0 0 0 0 0 0 0 0 0 0 0\n",
      " 0 0 0 0 0 0 0 0 0 0 0 0 0 0 0 0 0 0 0 0 0 0 0 0 0 0 0 0 0 0 0 0 0 0 0 0 0\n",
      " 0 0 0 0 0 0 0 0 0 0 0 0 0 0 0 0 0 0]\n"
     ]
    }
   ],
   "source": [
    "from sklearn import preprocessing\n",
    "encoder = preprocessing.LabelEncoder()\n",
    "\n",
    "#encoding train labels\n",
    "encoder.fit(y_train_new)\n",
    "y_train_new = encoder.transform(y_train_new)\n",
    "\n"
   ]
  },
  {
   "cell_type": "code",
   "execution_count": 107,
   "metadata": {},
   "outputs": [],
   "source": [
    "params_grid = [{'kernel': ['rbf'], 'gamma': [1e-3, 1e-4],\n",
    "                     'C': [1, 10, 100, 1000]},\n",
    "                    {'kernel': ['linear'], 'C': [1, 10, 100, 1000]}]"
   ]
  },
  {
   "cell_type": "code",
   "execution_count": 109,
   "metadata": {},
   "outputs": [
    {
     "name": "stderr",
     "output_type": "stream",
     "text": [
      "/home/jatin/anaconda3/lib/python3.6/site-packages/sklearn/model_selection/_search.py:841: DeprecationWarning: The default of the `iid` parameter will change from True to False in version 0.22 and will be removed in 0.24. This will change numeric results when test-set sizes are unequal.\n",
      "  DeprecationWarning)\n"
     ]
    },
    {
     "data": {
      "text/plain": [
       "GridSearchCV(cv=5, error_score='raise-deprecating',\n",
       "       estimator=SVC(C=1.0, cache_size=200, class_weight=None, coef0=0.0,\n",
       "  decision_function_shape='ovr', degree=3, gamma='auto_deprecated',\n",
       "  kernel='rbf', max_iter=-1, probability=False, random_state=None,\n",
       "  shrinking=True, tol=0.001, verbose=False),\n",
       "       fit_params=None, iid='warn', n_jobs=None,\n",
       "       param_grid=[{'kernel': ['rbf'], 'gamma': [0.001, 0.0001], 'C': [1, 10, 100, 1000]}, {'kernel': ['linear'], 'C': [1, 10, 100, 1000]}],\n",
       "       pre_dispatch='2*n_jobs', refit=True, return_train_score='warn',\n",
       "       scoring=None, verbose=0)"
      ]
     },
     "execution_count": 109,
     "metadata": {},
     "output_type": "execute_result"
    }
   ],
   "source": [
    "svm_model = GridSearchCV(SVC(), params_grid, cv=5)\n",
    "svm_model.fit(X_train_new, y_train_new)"
   ]
  },
  {
   "cell_type": "code",
   "execution_count": 111,
   "metadata": {},
   "outputs": [
    {
     "name": "stdout",
     "output_type": "stream",
     "text": [
      "Best score for training data: 0.8167770419426048 \n",
      "\n",
      "Best C: 1 \n",
      "\n",
      "Best Kernel: linear \n",
      "\n",
      "Best Gamma: auto_deprecated \n",
      "\n"
     ]
    }
   ],
   "source": [
    "# View the accuracy score\n",
    "print('Best score for training data:', svm_model.best_score_,\"\\n\") \n",
    "\n",
    "# View the best parameters for the model found using grid search\n",
    "print('Best C:',svm_model.best_estimator_.C,\"\\n\") \n",
    "print('Best Kernel:',svm_model.best_estimator_.kernel,\"\\n\")\n",
    "print('Best Gamma:',svm_model.best_estimator_.gamma,\"\\n\")"
   ]
  },
  {
   "cell_type": "code",
   "execution_count": 115,
   "metadata": {},
   "outputs": [
    {
     "data": {
      "text/plain": [
       "array([3])"
      ]
     },
     "execution_count": 115,
     "metadata": {},
     "output_type": "execute_result"
    }
   ],
   "source": [
    "svm_model.predict(X_train_new[0].reshape(1,40000))"
   ]
  },
  {
   "cell_type": "code",
   "execution_count": 117,
   "metadata": {},
   "outputs": [],
   "source": [
    "def new_display_emotions(videoFaces, frame, bboxes):\n",
    "    outputFrame = frame.copy()\n",
    "    predictions = svm_model.predict(videoFaces)\n",
    "    for i in range(len(bboxes)):\n",
    "        emotion = y_translation[predictions[i]]\n",
    "        font = cv2.FONT_HERSHEY_SIMPLEX\n",
    "        cv2.putText(outputFrame, emotion, (bboxes[i][0] -1 ,bboxes[i][1] - 1), font, 1, (0,255,0), 2, cv2.LINE_AA)\n",
    "        cv2.rectangle(outputFrame, (bboxes[i][0], bboxes[i][1]), (bboxes[i][2], bboxes[i][3]), (0, 255, 0), int(round(outputFrame.shape[0]/150)), 8)\n",
    "    return outputFrame"
   ]
  },
  {
   "cell_type": "code",
   "execution_count": 124,
   "metadata": {},
   "outputs": [],
   "source": [
    "def new_get_webcam_feed():\n",
    "    cap = cv2.VideoCapture(0)\n",
    "    hasFrame, frame = cap.read()\n",
    "    #TODO : Handle cases for multiple people\n",
    "    frame_count = 0\n",
    "    tt_opencvDnn = 0\n",
    "    while(1):\n",
    "        try:\n",
    "            hasFrame, frame = cap.read()\n",
    "            if not hasFrame:\n",
    "                break\n",
    "            frame_count += 1\n",
    "            outputFrame = frame\n",
    "            #Gives a list of gray-scale images in webcam feed\n",
    "            videoFaces, bboxes = face_reduction(frame)\n",
    "            videoFaces = np.array(videoFaces)\n",
    "            if videoFaces.shape[0] != 0:\n",
    "#                 print(videoFaces.shape)\n",
    "                videoFaces = videoFaces.reshape((videoFaces.shape[0],videoFaces.shape[1],videoFaces.shape[2],1))\n",
    "                videoFaces = np.reshape(videoFaces, (videoFaces.shape[0], (videoFaces.shape[1]*videoFaces.shape[2]*videoFaces.shape[3])))\n",
    "                outputFrame = new_display_emotions(videoFaces, frame, bboxes)\n",
    "            cv2.imshow(\"frame\", outputFrame)\n",
    "            k = cv2.waitKey(10)\n",
    "            if k == 27:\n",
    "                break\n",
    "        except Exception as e:\n",
    "            print(\"Exception is \")\n",
    "            print(e)\n",
    "            break\n",
    "    cv2.destroyAllWindows()"
   ]
  },
  {
   "cell_type": "code",
   "execution_count": 125,
   "metadata": {},
   "outputs": [],
   "source": [
    "new_get_webcam_feed()"
   ]
  },
  {
   "cell_type": "code",
   "execution_count": null,
   "metadata": {},
   "outputs": [],
   "source": []
  }
 ],
 "metadata": {
  "kernelspec": {
   "display_name": "Python 3",
   "language": "python",
   "name": "python3"
  },
  "language_info": {
   "codemirror_mode": {
    "name": "ipython",
    "version": 3
   },
   "file_extension": ".py",
   "mimetype": "text/x-python",
   "name": "python",
   "nbconvert_exporter": "python",
   "pygments_lexer": "ipython3",
   "version": "3.6.4"
  }
 },
 "nbformat": 4,
 "nbformat_minor": 2
}
