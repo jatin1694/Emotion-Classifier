{
 "cells": [
  {
   "cell_type": "code",
   "execution_count": 1,
   "metadata": {
    "ExecuteTime": {
     "end_time": "2019-04-20T23:56:49.856631Z",
     "start_time": "2019-04-20T23:56:49.852661Z"
    }
   },
   "outputs": [],
   "source": [
    "import numpy as np\n",
    "from sklearn.linear_model import LogisticRegression\n",
    "from sklearn.model_selection import GridSearchCV\n",
    "from joblib import dump, load"
   ]
  },
  {
   "cell_type": "code",
   "execution_count": 2,
   "metadata": {
    "ExecuteTime": {
     "end_time": "2019-04-20T23:49:39.275839Z",
     "start_time": "2019-04-20T23:49:34.908016Z"
    }
   },
   "outputs": [],
   "source": [
    "class LoisticRegression:\n",
    "    def __init__(self, X_train, y_train):\n",
    "        self.X_train = X_train\n",
    "        self.y_train = y_train\n",
    "    \n",
    "    def train_model(self):\n",
    "        grid_values = {\n",
    "            'penalty': ['l1','l2'], \n",
    "            'C': [0.001,0.01,0.1,1,10,100,1000]\n",
    "        }\n",
    "        model = GridSearchCV(LogisticRegression(), grid_values)\n",
    "        model.fit(X_train, Y_train)\n",
    "        return model.best_estimator_\n",
    "    \n",
    "    def load_model(self):\n",
    "        model = load('lr_model.pkl')\n",
    "        return model\n",
    "    \n",
    "    def dump_model(self, model):\n",
    "        dump(model, 'lr_model.pkl')"
   ]
  },
  {
   "cell_type": "code",
   "execution_count": null,
   "metadata": {},
   "outputs": [],
   "source": []
  }
 ],
 "metadata": {
  "kernelspec": {
   "display_name": "Python 3",
   "language": "python",
   "name": "python3"
  },
  "language_info": {
   "codemirror_mode": {
    "name": "ipython",
    "version": 3
   },
   "file_extension": ".py",
   "mimetype": "text/x-python",
   "name": "python",
   "nbconvert_exporter": "python",
   "pygments_lexer": "ipython3",
   "version": "3.6.4"
  },
  "toc": {
   "base_numbering": 1,
   "nav_menu": {},
   "number_sections": true,
   "sideBar": true,
   "skip_h1_title": false,
   "title_cell": "Table of Contents",
   "title_sidebar": "Contents",
   "toc_cell": false,
   "toc_position": {},
   "toc_section_display": true,
   "toc_window_display": false
  }
 },
 "nbformat": 4,
 "nbformat_minor": 2
}
